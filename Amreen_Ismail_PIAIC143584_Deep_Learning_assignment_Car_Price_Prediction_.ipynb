{
  "nbformat": 4,
  "nbformat_minor": 0,
  "metadata": {
    "kernelspec": {
      "display_name": "Python 3",
      "language": "python",
      "name": "python3"
    },
    "language_info": {
      "codemirror_mode": {
        "name": "ipython",
        "version": 3
      },
      "file_extension": ".py",
      "mimetype": "text/x-python",
      "name": "python",
      "nbconvert_exporter": "python",
      "pygments_lexer": "ipython3",
      "version": "3.7.3"
    },
    "colab": {
      "name": "Amreen-Ismail-PIAIC143584-Deep-Learning-assignment-Car Price Prediction .ipynb",
      "provenance": [],
      "collapsed_sections": [],
      "toc_visible": true
    }
  },
  "cells": [
    {
      "cell_type": "markdown",
      "metadata": {
        "id": "9z6iPLeO1dUa"
      },
      "source": [
        "# Car Price Prediction::"
      ]
    },
    {
      "cell_type": "code",
      "metadata": {
        "id": "q8MAswYgHI9i"
      },
      "source": [
        ""
      ],
      "execution_count": null,
      "outputs": []
    },
    {
      "cell_type": "code",
      "metadata": {
        "colab": {
          "base_uri": "https://localhost:8080/"
        },
        "id": "J1TA7wSzHJk6",
        "outputId": "ab86bd30-839c-4176-cfb8-810000f9fde4"
      },
      "source": [
        "from google.colab import drive\n",
        "drive.mount('/content/drive')"
      ],
      "execution_count": 77,
      "outputs": [
        {
          "output_type": "stream",
          "text": [
            "Drive already mounted at /content/drive; to attempt to forcibly remount, call drive.mount(\"/content/drive\", force_remount=True).\n"
          ],
          "name": "stdout"
        }
      ]
    },
    {
      "cell_type": "code",
      "metadata": {
        "colab": {
          "base_uri": "https://localhost:8080/"
        },
        "id": "5B265RQJIPjT",
        "outputId": "a9d81ccc-504b-4c0f-a5ff-12cef89316e3"
      },
      "source": [
        "!ls '/content/drive/MyDrive/Colab Notebooks/CarPrice_Assignment.csv'"
      ],
      "execution_count": null,
      "outputs": [
        {
          "output_type": "stream",
          "text": [
            "'/content/drive/MyDrive/Colab Notebooks/CarPrice_Assignment.csv'\n"
          ],
          "name": "stdout"
        }
      ]
    },
    {
      "cell_type": "markdown",
      "metadata": {
        "id": "McJhkXX-1dUi"
      },
      "source": [
        "Download dataset from this link:\n",
        "\n",
        "https://www.kaggle.com/hellbuoy/car-price-prediction"
      ]
    },
    {
      "cell_type": "markdown",
      "metadata": {
        "id": "_pFtb5Do1dUj"
      },
      "source": [
        "# Problem Statement::"
      ]
    },
    {
      "cell_type": "markdown",
      "metadata": {
        "id": "HeuWVLEo1dUk"
      },
      "source": [
        "A Chinese automobile company Geely Auto aspires to enter the US market by setting up their manufacturing unit there and producing cars locally to give competition to their US and European counterparts.\n",
        "\n",
        "They have contracted an automobile consulting company to understand the factors on which the pricing of cars depends. Specifically, they want to understand the factors affecting the pricing of cars in the American market, since those may be very different from the Chinese market. The company wants to know:\n",
        "\n",
        "Which variables are significant in predicting the price of a car\n",
        "How well those variables describe the price of a car\n",
        "Based on various market surveys, the consulting firm has gathered a large data set of different types of cars across the America market.\n",
        "\n",
        "# task::\n",
        "We are required to model the price of cars with the available independent variables. It will be used by the management to understand how exactly the prices vary with the independent variables. They can accordingly manipulate the design of the cars, the business strategy etc. to meet certain price levels. Further, the model will be a good way for management to understand the pricing dynamics of a new market."
      ]
    },
    {
      "cell_type": "markdown",
      "metadata": {
        "id": "RgY8Eprv1dUk"
      },
      "source": [
        "# WORKFLOW ::"
      ]
    },
    {
      "cell_type": "markdown",
      "metadata": {
        "id": "3qJsKQk_1dUl"
      },
      "source": [
        "1.Load Data\n",
        "\n",
        "2.Check Missing Values ( If Exist ; Fill each record with mean of its feature )\n",
        "\n",
        "3.Split into 50% Training(Samples,Labels) , 30% Test(Samples,Labels) and 20% Validation Data(Samples,Labels).\n",
        "\n",
        "4.Model : input Layer (No. of features ), 3 hidden layers including 10,8,6 unit & Output Layer with activation function relu/tanh (check by experiment).\n",
        "\n",
        "5.Compilation Step (Note : Its a Regression problem , select loss , metrics according to it)\n",
        "6.Train the Model with Epochs (100) and validate it\n",
        "\n",
        "7.If the model gets overfit tune your model by changing the units , No. of layers , activation function , epochs , add dropout layer or add Regularizer according to the need .\n",
        "\n",
        "8.Evaluation Step\n",
        "\n",
        "9.Prediction"
      ]
    },
    {
      "cell_type": "code",
      "metadata": {
        "id": "2M3ft6631dUm"
      },
      "source": [
        "import numpy as np\n",
        "import pandas as pd\n",
        "from keras.models import Sequential\n",
        "from keras.layers import Dense\n",
        "import matplotlib.pyplot as plt\n",
        "from keras.optimizers import Adam,SGD\n",
        "car_data = pd.read_csv('/content/drive/MyDrive/CarPrice_Assignment.csv')"
      ],
      "execution_count": 137,
      "outputs": []
    },
    {
      "cell_type": "code",
      "metadata": {
        "colab": {
          "base_uri": "https://localhost:8080/",
          "height": 266
        },
        "id": "uwUtmlVq1dUn",
        "outputId": "d0e2e5f5-5638-4ca8-aed5-788e15480b14"
      },
      "source": [
        "car_data.head()"
      ],
      "execution_count": 138,
      "outputs": [
        {
          "output_type": "execute_result",
          "data": {
            "text/html": [
              "<div>\n",
              "<style scoped>\n",
              "    .dataframe tbody tr th:only-of-type {\n",
              "        vertical-align: middle;\n",
              "    }\n",
              "\n",
              "    .dataframe tbody tr th {\n",
              "        vertical-align: top;\n",
              "    }\n",
              "\n",
              "    .dataframe thead th {\n",
              "        text-align: right;\n",
              "    }\n",
              "</style>\n",
              "<table border=\"1\" class=\"dataframe\">\n",
              "  <thead>\n",
              "    <tr style=\"text-align: right;\">\n",
              "      <th></th>\n",
              "      <th>car_ID</th>\n",
              "      <th>symboling</th>\n",
              "      <th>CarName</th>\n",
              "      <th>fueltype</th>\n",
              "      <th>aspiration</th>\n",
              "      <th>doornumber</th>\n",
              "      <th>carbody</th>\n",
              "      <th>drivewheel</th>\n",
              "      <th>enginelocation</th>\n",
              "      <th>wheelbase</th>\n",
              "      <th>carlength</th>\n",
              "      <th>carwidth</th>\n",
              "      <th>carheight</th>\n",
              "      <th>curbweight</th>\n",
              "      <th>enginetype</th>\n",
              "      <th>cylindernumber</th>\n",
              "      <th>enginesize</th>\n",
              "      <th>fuelsystem</th>\n",
              "      <th>boreratio</th>\n",
              "      <th>stroke</th>\n",
              "      <th>compressionratio</th>\n",
              "      <th>horsepower</th>\n",
              "      <th>peakrpm</th>\n",
              "      <th>citympg</th>\n",
              "      <th>highwaympg</th>\n",
              "      <th>price</th>\n",
              "    </tr>\n",
              "  </thead>\n",
              "  <tbody>\n",
              "    <tr>\n",
              "      <th>0</th>\n",
              "      <td>1</td>\n",
              "      <td>3</td>\n",
              "      <td>alfa-romero giulia</td>\n",
              "      <td>gas</td>\n",
              "      <td>std</td>\n",
              "      <td>two</td>\n",
              "      <td>convertible</td>\n",
              "      <td>rwd</td>\n",
              "      <td>front</td>\n",
              "      <td>88.6</td>\n",
              "      <td>168.8</td>\n",
              "      <td>64.1</td>\n",
              "      <td>48.8</td>\n",
              "      <td>2548</td>\n",
              "      <td>dohc</td>\n",
              "      <td>four</td>\n",
              "      <td>130</td>\n",
              "      <td>mpfi</td>\n",
              "      <td>3.47</td>\n",
              "      <td>2.68</td>\n",
              "      <td>9.0</td>\n",
              "      <td>111</td>\n",
              "      <td>5000</td>\n",
              "      <td>21</td>\n",
              "      <td>27</td>\n",
              "      <td>13495.0</td>\n",
              "    </tr>\n",
              "    <tr>\n",
              "      <th>1</th>\n",
              "      <td>2</td>\n",
              "      <td>3</td>\n",
              "      <td>alfa-romero stelvio</td>\n",
              "      <td>gas</td>\n",
              "      <td>std</td>\n",
              "      <td>two</td>\n",
              "      <td>convertible</td>\n",
              "      <td>rwd</td>\n",
              "      <td>front</td>\n",
              "      <td>88.6</td>\n",
              "      <td>168.8</td>\n",
              "      <td>64.1</td>\n",
              "      <td>48.8</td>\n",
              "      <td>2548</td>\n",
              "      <td>dohc</td>\n",
              "      <td>four</td>\n",
              "      <td>130</td>\n",
              "      <td>mpfi</td>\n",
              "      <td>3.47</td>\n",
              "      <td>2.68</td>\n",
              "      <td>9.0</td>\n",
              "      <td>111</td>\n",
              "      <td>5000</td>\n",
              "      <td>21</td>\n",
              "      <td>27</td>\n",
              "      <td>16500.0</td>\n",
              "    </tr>\n",
              "    <tr>\n",
              "      <th>2</th>\n",
              "      <td>3</td>\n",
              "      <td>1</td>\n",
              "      <td>alfa-romero Quadrifoglio</td>\n",
              "      <td>gas</td>\n",
              "      <td>std</td>\n",
              "      <td>two</td>\n",
              "      <td>hatchback</td>\n",
              "      <td>rwd</td>\n",
              "      <td>front</td>\n",
              "      <td>94.5</td>\n",
              "      <td>171.2</td>\n",
              "      <td>65.5</td>\n",
              "      <td>52.4</td>\n",
              "      <td>2823</td>\n",
              "      <td>ohcv</td>\n",
              "      <td>six</td>\n",
              "      <td>152</td>\n",
              "      <td>mpfi</td>\n",
              "      <td>2.68</td>\n",
              "      <td>3.47</td>\n",
              "      <td>9.0</td>\n",
              "      <td>154</td>\n",
              "      <td>5000</td>\n",
              "      <td>19</td>\n",
              "      <td>26</td>\n",
              "      <td>16500.0</td>\n",
              "    </tr>\n",
              "    <tr>\n",
              "      <th>3</th>\n",
              "      <td>4</td>\n",
              "      <td>2</td>\n",
              "      <td>audi 100 ls</td>\n",
              "      <td>gas</td>\n",
              "      <td>std</td>\n",
              "      <td>four</td>\n",
              "      <td>sedan</td>\n",
              "      <td>fwd</td>\n",
              "      <td>front</td>\n",
              "      <td>99.8</td>\n",
              "      <td>176.6</td>\n",
              "      <td>66.2</td>\n",
              "      <td>54.3</td>\n",
              "      <td>2337</td>\n",
              "      <td>ohc</td>\n",
              "      <td>four</td>\n",
              "      <td>109</td>\n",
              "      <td>mpfi</td>\n",
              "      <td>3.19</td>\n",
              "      <td>3.40</td>\n",
              "      <td>10.0</td>\n",
              "      <td>102</td>\n",
              "      <td>5500</td>\n",
              "      <td>24</td>\n",
              "      <td>30</td>\n",
              "      <td>13950.0</td>\n",
              "    </tr>\n",
              "    <tr>\n",
              "      <th>4</th>\n",
              "      <td>5</td>\n",
              "      <td>2</td>\n",
              "      <td>audi 100ls</td>\n",
              "      <td>gas</td>\n",
              "      <td>std</td>\n",
              "      <td>four</td>\n",
              "      <td>sedan</td>\n",
              "      <td>4wd</td>\n",
              "      <td>front</td>\n",
              "      <td>99.4</td>\n",
              "      <td>176.6</td>\n",
              "      <td>66.4</td>\n",
              "      <td>54.3</td>\n",
              "      <td>2824</td>\n",
              "      <td>ohc</td>\n",
              "      <td>five</td>\n",
              "      <td>136</td>\n",
              "      <td>mpfi</td>\n",
              "      <td>3.19</td>\n",
              "      <td>3.40</td>\n",
              "      <td>8.0</td>\n",
              "      <td>115</td>\n",
              "      <td>5500</td>\n",
              "      <td>18</td>\n",
              "      <td>22</td>\n",
              "      <td>17450.0</td>\n",
              "    </tr>\n",
              "  </tbody>\n",
              "</table>\n",
              "</div>"
            ],
            "text/plain": [
              "   car_ID  symboling                   CarName  ... citympg highwaympg    price\n",
              "0       1          3        alfa-romero giulia  ...      21         27  13495.0\n",
              "1       2          3       alfa-romero stelvio  ...      21         27  16500.0\n",
              "2       3          1  alfa-romero Quadrifoglio  ...      19         26  16500.0\n",
              "3       4          2               audi 100 ls  ...      24         30  13950.0\n",
              "4       5          2                audi 100ls  ...      18         22  17450.0\n",
              "\n",
              "[5 rows x 26 columns]"
            ]
          },
          "metadata": {
            "tags": []
          },
          "execution_count": 138
        }
      ]
    },
    {
      "cell_type": "code",
      "metadata": {
        "colab": {
          "base_uri": "https://localhost:8080/"
        },
        "id": "TKJD0bmk1dUn",
        "outputId": "012ab7be-e198-4f78-918c-57e4a195a87a"
      },
      "source": [
        "car_data.shape"
      ],
      "execution_count": 139,
      "outputs": [
        {
          "output_type": "execute_result",
          "data": {
            "text/plain": [
              "(205, 26)"
            ]
          },
          "metadata": {
            "tags": []
          },
          "execution_count": 139
        }
      ]
    },
    {
      "cell_type": "code",
      "metadata": {
        "id": "9hzPTmDk1dUn",
        "colab": {
          "base_uri": "https://localhost:8080/"
        },
        "outputId": "8a5d4d20-7eaa-476f-e9dd-b07e0c69b83e"
      },
      "source": [
        "car_data.columns"
      ],
      "execution_count": 140,
      "outputs": [
        {
          "output_type": "execute_result",
          "data": {
            "text/plain": [
              "Index(['car_ID', 'symboling', 'CarName', 'fueltype', 'aspiration',\n",
              "       'doornumber', 'carbody', 'drivewheel', 'enginelocation', 'wheelbase',\n",
              "       'carlength', 'carwidth', 'carheight', 'curbweight', 'enginetype',\n",
              "       'cylindernumber', 'enginesize', 'fuelsystem', 'boreratio', 'stroke',\n",
              "       'compressionratio', 'horsepower', 'peakrpm', 'citympg', 'highwaympg',\n",
              "       'price'],\n",
              "      dtype='object')"
            ]
          },
          "metadata": {
            "tags": []
          },
          "execution_count": 140
        }
      ]
    },
    {
      "cell_type": "markdown",
      "metadata": {
        "id": "b_mbPebCERSA"
      },
      "source": [
        "\n",
        "CHECK MISSING VALUES:"
      ]
    },
    {
      "cell_type": "code",
      "metadata": {
        "id": "_nSmAHR11dUo",
        "colab": {
          "base_uri": "https://localhost:8080/"
        },
        "outputId": "529a170e-4798-4fcf-9941-b51e9a78e4ef"
      },
      "source": [
        "car_data.isnull().sum()"
      ],
      "execution_count": 141,
      "outputs": [
        {
          "output_type": "execute_result",
          "data": {
            "text/plain": [
              "car_ID              0\n",
              "symboling           0\n",
              "CarName             0\n",
              "fueltype            0\n",
              "aspiration          0\n",
              "doornumber          0\n",
              "carbody             0\n",
              "drivewheel          0\n",
              "enginelocation      0\n",
              "wheelbase           0\n",
              "carlength           0\n",
              "carwidth            0\n",
              "carheight           0\n",
              "curbweight          0\n",
              "enginetype          0\n",
              "cylindernumber      0\n",
              "enginesize          0\n",
              "fuelsystem          0\n",
              "boreratio           0\n",
              "stroke              0\n",
              "compressionratio    0\n",
              "horsepower          0\n",
              "peakrpm             0\n",
              "citympg             0\n",
              "highwaympg          0\n",
              "price               0\n",
              "dtype: int64"
            ]
          },
          "metadata": {
            "tags": []
          },
          "execution_count": 141
        }
      ]
    },
    {
      "cell_type": "code",
      "metadata": {
        "colab": {
          "base_uri": "https://localhost:8080/"
        },
        "id": "5QAtXLQXEyrv",
        "outputId": "b523454e-053c-4a81-f8eb-e1b6f2d73ef6"
      },
      "source": [
        "car_data.info()"
      ],
      "execution_count": 142,
      "outputs": [
        {
          "output_type": "stream",
          "text": [
            "<class 'pandas.core.frame.DataFrame'>\n",
            "RangeIndex: 205 entries, 0 to 204\n",
            "Data columns (total 26 columns):\n",
            " #   Column            Non-Null Count  Dtype  \n",
            "---  ------            --------------  -----  \n",
            " 0   car_ID            205 non-null    int64  \n",
            " 1   symboling         205 non-null    int64  \n",
            " 2   CarName           205 non-null    object \n",
            " 3   fueltype          205 non-null    object \n",
            " 4   aspiration        205 non-null    object \n",
            " 5   doornumber        205 non-null    object \n",
            " 6   carbody           205 non-null    object \n",
            " 7   drivewheel        205 non-null    object \n",
            " 8   enginelocation    205 non-null    object \n",
            " 9   wheelbase         205 non-null    float64\n",
            " 10  carlength         205 non-null    float64\n",
            " 11  carwidth          205 non-null    float64\n",
            " 12  carheight         205 non-null    float64\n",
            " 13  curbweight        205 non-null    int64  \n",
            " 14  enginetype        205 non-null    object \n",
            " 15  cylindernumber    205 non-null    object \n",
            " 16  enginesize        205 non-null    int64  \n",
            " 17  fuelsystem        205 non-null    object \n",
            " 18  boreratio         205 non-null    float64\n",
            " 19  stroke            205 non-null    float64\n",
            " 20  compressionratio  205 non-null    float64\n",
            " 21  horsepower        205 non-null    int64  \n",
            " 22  peakrpm           205 non-null    int64  \n",
            " 23  citympg           205 non-null    int64  \n",
            " 24  highwaympg        205 non-null    int64  \n",
            " 25  price             205 non-null    float64\n",
            "dtypes: float64(8), int64(8), object(10)\n",
            "memory usage: 41.8+ KB\n"
          ],
          "name": "stdout"
        }
      ]
    },
    {
      "cell_type": "code",
      "metadata": {
        "id": "1Wy3E_oY0Zp9"
      },
      "source": [
        "from sklearn.preprocessing import LabelEncoder\n",
        "labelencoder = LabelEncoder()\n",
        "car_data['fueltype'] = labelencoder.fit_transform(car_data['fueltype'])\n",
        "car_data['aspiration'] = labelencoder.fit_transform(car_data['aspiration'])\n",
        "car_data['carbody'] = labelencoder.fit_transform(car_data['carbody'])\n",
        "car_data['drivewheel'] = labelencoder.fit_transform(car_data['drivewheel'])\n",
        "car_data['enginelocation'] = labelencoder.fit_transform(car_data['enginelocation'])\n",
        "\n"
      ],
      "execution_count": 143,
      "outputs": []
    },
    {
      "cell_type": "code",
      "metadata": {
        "id": "X7vs8s161lgC"
      },
      "source": [
        "car_data['cylindernumber'] = car_data['cylindernumber'].map({'six': 6, 'four': 4,'five': 5})"
      ],
      "execution_count": 144,
      "outputs": []
    },
    {
      "cell_type": "code",
      "metadata": {
        "colab": {
          "base_uri": "https://localhost:8080/",
          "height": 490
        },
        "id": "tvCwoR2d2rNj",
        "outputId": "f614eea2-78fa-4e28-b5fb-88b3658d39fb"
      },
      "source": [
        "car_data"
      ],
      "execution_count": 145,
      "outputs": [
        {
          "output_type": "execute_result",
          "data": {
            "text/html": [
              "<div>\n",
              "<style scoped>\n",
              "    .dataframe tbody tr th:only-of-type {\n",
              "        vertical-align: middle;\n",
              "    }\n",
              "\n",
              "    .dataframe tbody tr th {\n",
              "        vertical-align: top;\n",
              "    }\n",
              "\n",
              "    .dataframe thead th {\n",
              "        text-align: right;\n",
              "    }\n",
              "</style>\n",
              "<table border=\"1\" class=\"dataframe\">\n",
              "  <thead>\n",
              "    <tr style=\"text-align: right;\">\n",
              "      <th></th>\n",
              "      <th>car_ID</th>\n",
              "      <th>symboling</th>\n",
              "      <th>CarName</th>\n",
              "      <th>fueltype</th>\n",
              "      <th>aspiration</th>\n",
              "      <th>doornumber</th>\n",
              "      <th>carbody</th>\n",
              "      <th>drivewheel</th>\n",
              "      <th>enginelocation</th>\n",
              "      <th>wheelbase</th>\n",
              "      <th>carlength</th>\n",
              "      <th>carwidth</th>\n",
              "      <th>carheight</th>\n",
              "      <th>curbweight</th>\n",
              "      <th>enginetype</th>\n",
              "      <th>cylindernumber</th>\n",
              "      <th>enginesize</th>\n",
              "      <th>fuelsystem</th>\n",
              "      <th>boreratio</th>\n",
              "      <th>stroke</th>\n",
              "      <th>compressionratio</th>\n",
              "      <th>horsepower</th>\n",
              "      <th>peakrpm</th>\n",
              "      <th>citympg</th>\n",
              "      <th>highwaympg</th>\n",
              "      <th>price</th>\n",
              "    </tr>\n",
              "  </thead>\n",
              "  <tbody>\n",
              "    <tr>\n",
              "      <th>0</th>\n",
              "      <td>1</td>\n",
              "      <td>3</td>\n",
              "      <td>alfa-romero giulia</td>\n",
              "      <td>1</td>\n",
              "      <td>0</td>\n",
              "      <td>two</td>\n",
              "      <td>0</td>\n",
              "      <td>2</td>\n",
              "      <td>0</td>\n",
              "      <td>88.6</td>\n",
              "      <td>168.8</td>\n",
              "      <td>64.1</td>\n",
              "      <td>48.8</td>\n",
              "      <td>2548</td>\n",
              "      <td>dohc</td>\n",
              "      <td>4.0</td>\n",
              "      <td>130</td>\n",
              "      <td>mpfi</td>\n",
              "      <td>3.47</td>\n",
              "      <td>2.68</td>\n",
              "      <td>9.0</td>\n",
              "      <td>111</td>\n",
              "      <td>5000</td>\n",
              "      <td>21</td>\n",
              "      <td>27</td>\n",
              "      <td>13495.0</td>\n",
              "    </tr>\n",
              "    <tr>\n",
              "      <th>1</th>\n",
              "      <td>2</td>\n",
              "      <td>3</td>\n",
              "      <td>alfa-romero stelvio</td>\n",
              "      <td>1</td>\n",
              "      <td>0</td>\n",
              "      <td>two</td>\n",
              "      <td>0</td>\n",
              "      <td>2</td>\n",
              "      <td>0</td>\n",
              "      <td>88.6</td>\n",
              "      <td>168.8</td>\n",
              "      <td>64.1</td>\n",
              "      <td>48.8</td>\n",
              "      <td>2548</td>\n",
              "      <td>dohc</td>\n",
              "      <td>4.0</td>\n",
              "      <td>130</td>\n",
              "      <td>mpfi</td>\n",
              "      <td>3.47</td>\n",
              "      <td>2.68</td>\n",
              "      <td>9.0</td>\n",
              "      <td>111</td>\n",
              "      <td>5000</td>\n",
              "      <td>21</td>\n",
              "      <td>27</td>\n",
              "      <td>16500.0</td>\n",
              "    </tr>\n",
              "    <tr>\n",
              "      <th>2</th>\n",
              "      <td>3</td>\n",
              "      <td>1</td>\n",
              "      <td>alfa-romero Quadrifoglio</td>\n",
              "      <td>1</td>\n",
              "      <td>0</td>\n",
              "      <td>two</td>\n",
              "      <td>2</td>\n",
              "      <td>2</td>\n",
              "      <td>0</td>\n",
              "      <td>94.5</td>\n",
              "      <td>171.2</td>\n",
              "      <td>65.5</td>\n",
              "      <td>52.4</td>\n",
              "      <td>2823</td>\n",
              "      <td>ohcv</td>\n",
              "      <td>6.0</td>\n",
              "      <td>152</td>\n",
              "      <td>mpfi</td>\n",
              "      <td>2.68</td>\n",
              "      <td>3.47</td>\n",
              "      <td>9.0</td>\n",
              "      <td>154</td>\n",
              "      <td>5000</td>\n",
              "      <td>19</td>\n",
              "      <td>26</td>\n",
              "      <td>16500.0</td>\n",
              "    </tr>\n",
              "    <tr>\n",
              "      <th>3</th>\n",
              "      <td>4</td>\n",
              "      <td>2</td>\n",
              "      <td>audi 100 ls</td>\n",
              "      <td>1</td>\n",
              "      <td>0</td>\n",
              "      <td>four</td>\n",
              "      <td>3</td>\n",
              "      <td>1</td>\n",
              "      <td>0</td>\n",
              "      <td>99.8</td>\n",
              "      <td>176.6</td>\n",
              "      <td>66.2</td>\n",
              "      <td>54.3</td>\n",
              "      <td>2337</td>\n",
              "      <td>ohc</td>\n",
              "      <td>4.0</td>\n",
              "      <td>109</td>\n",
              "      <td>mpfi</td>\n",
              "      <td>3.19</td>\n",
              "      <td>3.40</td>\n",
              "      <td>10.0</td>\n",
              "      <td>102</td>\n",
              "      <td>5500</td>\n",
              "      <td>24</td>\n",
              "      <td>30</td>\n",
              "      <td>13950.0</td>\n",
              "    </tr>\n",
              "    <tr>\n",
              "      <th>4</th>\n",
              "      <td>5</td>\n",
              "      <td>2</td>\n",
              "      <td>audi 100ls</td>\n",
              "      <td>1</td>\n",
              "      <td>0</td>\n",
              "      <td>four</td>\n",
              "      <td>3</td>\n",
              "      <td>0</td>\n",
              "      <td>0</td>\n",
              "      <td>99.4</td>\n",
              "      <td>176.6</td>\n",
              "      <td>66.4</td>\n",
              "      <td>54.3</td>\n",
              "      <td>2824</td>\n",
              "      <td>ohc</td>\n",
              "      <td>5.0</td>\n",
              "      <td>136</td>\n",
              "      <td>mpfi</td>\n",
              "      <td>3.19</td>\n",
              "      <td>3.40</td>\n",
              "      <td>8.0</td>\n",
              "      <td>115</td>\n",
              "      <td>5500</td>\n",
              "      <td>18</td>\n",
              "      <td>22</td>\n",
              "      <td>17450.0</td>\n",
              "    </tr>\n",
              "    <tr>\n",
              "      <th>...</th>\n",
              "      <td>...</td>\n",
              "      <td>...</td>\n",
              "      <td>...</td>\n",
              "      <td>...</td>\n",
              "      <td>...</td>\n",
              "      <td>...</td>\n",
              "      <td>...</td>\n",
              "      <td>...</td>\n",
              "      <td>...</td>\n",
              "      <td>...</td>\n",
              "      <td>...</td>\n",
              "      <td>...</td>\n",
              "      <td>...</td>\n",
              "      <td>...</td>\n",
              "      <td>...</td>\n",
              "      <td>...</td>\n",
              "      <td>...</td>\n",
              "      <td>...</td>\n",
              "      <td>...</td>\n",
              "      <td>...</td>\n",
              "      <td>...</td>\n",
              "      <td>...</td>\n",
              "      <td>...</td>\n",
              "      <td>...</td>\n",
              "      <td>...</td>\n",
              "      <td>...</td>\n",
              "    </tr>\n",
              "    <tr>\n",
              "      <th>200</th>\n",
              "      <td>201</td>\n",
              "      <td>-1</td>\n",
              "      <td>volvo 145e (sw)</td>\n",
              "      <td>1</td>\n",
              "      <td>0</td>\n",
              "      <td>four</td>\n",
              "      <td>3</td>\n",
              "      <td>2</td>\n",
              "      <td>0</td>\n",
              "      <td>109.1</td>\n",
              "      <td>188.8</td>\n",
              "      <td>68.9</td>\n",
              "      <td>55.5</td>\n",
              "      <td>2952</td>\n",
              "      <td>ohc</td>\n",
              "      <td>4.0</td>\n",
              "      <td>141</td>\n",
              "      <td>mpfi</td>\n",
              "      <td>3.78</td>\n",
              "      <td>3.15</td>\n",
              "      <td>9.5</td>\n",
              "      <td>114</td>\n",
              "      <td>5400</td>\n",
              "      <td>23</td>\n",
              "      <td>28</td>\n",
              "      <td>16845.0</td>\n",
              "    </tr>\n",
              "    <tr>\n",
              "      <th>201</th>\n",
              "      <td>202</td>\n",
              "      <td>-1</td>\n",
              "      <td>volvo 144ea</td>\n",
              "      <td>1</td>\n",
              "      <td>1</td>\n",
              "      <td>four</td>\n",
              "      <td>3</td>\n",
              "      <td>2</td>\n",
              "      <td>0</td>\n",
              "      <td>109.1</td>\n",
              "      <td>188.8</td>\n",
              "      <td>68.8</td>\n",
              "      <td>55.5</td>\n",
              "      <td>3049</td>\n",
              "      <td>ohc</td>\n",
              "      <td>4.0</td>\n",
              "      <td>141</td>\n",
              "      <td>mpfi</td>\n",
              "      <td>3.78</td>\n",
              "      <td>3.15</td>\n",
              "      <td>8.7</td>\n",
              "      <td>160</td>\n",
              "      <td>5300</td>\n",
              "      <td>19</td>\n",
              "      <td>25</td>\n",
              "      <td>19045.0</td>\n",
              "    </tr>\n",
              "    <tr>\n",
              "      <th>202</th>\n",
              "      <td>203</td>\n",
              "      <td>-1</td>\n",
              "      <td>volvo 244dl</td>\n",
              "      <td>1</td>\n",
              "      <td>0</td>\n",
              "      <td>four</td>\n",
              "      <td>3</td>\n",
              "      <td>2</td>\n",
              "      <td>0</td>\n",
              "      <td>109.1</td>\n",
              "      <td>188.8</td>\n",
              "      <td>68.9</td>\n",
              "      <td>55.5</td>\n",
              "      <td>3012</td>\n",
              "      <td>ohcv</td>\n",
              "      <td>6.0</td>\n",
              "      <td>173</td>\n",
              "      <td>mpfi</td>\n",
              "      <td>3.58</td>\n",
              "      <td>2.87</td>\n",
              "      <td>8.8</td>\n",
              "      <td>134</td>\n",
              "      <td>5500</td>\n",
              "      <td>18</td>\n",
              "      <td>23</td>\n",
              "      <td>21485.0</td>\n",
              "    </tr>\n",
              "    <tr>\n",
              "      <th>203</th>\n",
              "      <td>204</td>\n",
              "      <td>-1</td>\n",
              "      <td>volvo 246</td>\n",
              "      <td>0</td>\n",
              "      <td>1</td>\n",
              "      <td>four</td>\n",
              "      <td>3</td>\n",
              "      <td>2</td>\n",
              "      <td>0</td>\n",
              "      <td>109.1</td>\n",
              "      <td>188.8</td>\n",
              "      <td>68.9</td>\n",
              "      <td>55.5</td>\n",
              "      <td>3217</td>\n",
              "      <td>ohc</td>\n",
              "      <td>6.0</td>\n",
              "      <td>145</td>\n",
              "      <td>idi</td>\n",
              "      <td>3.01</td>\n",
              "      <td>3.40</td>\n",
              "      <td>23.0</td>\n",
              "      <td>106</td>\n",
              "      <td>4800</td>\n",
              "      <td>26</td>\n",
              "      <td>27</td>\n",
              "      <td>22470.0</td>\n",
              "    </tr>\n",
              "    <tr>\n",
              "      <th>204</th>\n",
              "      <td>205</td>\n",
              "      <td>-1</td>\n",
              "      <td>volvo 264gl</td>\n",
              "      <td>1</td>\n",
              "      <td>1</td>\n",
              "      <td>four</td>\n",
              "      <td>3</td>\n",
              "      <td>2</td>\n",
              "      <td>0</td>\n",
              "      <td>109.1</td>\n",
              "      <td>188.8</td>\n",
              "      <td>68.9</td>\n",
              "      <td>55.5</td>\n",
              "      <td>3062</td>\n",
              "      <td>ohc</td>\n",
              "      <td>4.0</td>\n",
              "      <td>141</td>\n",
              "      <td>mpfi</td>\n",
              "      <td>3.78</td>\n",
              "      <td>3.15</td>\n",
              "      <td>9.5</td>\n",
              "      <td>114</td>\n",
              "      <td>5400</td>\n",
              "      <td>19</td>\n",
              "      <td>25</td>\n",
              "      <td>22625.0</td>\n",
              "    </tr>\n",
              "  </tbody>\n",
              "</table>\n",
              "<p>205 rows × 26 columns</p>\n",
              "</div>"
            ],
            "text/plain": [
              "     car_ID  symboling                   CarName  ...  citympg  highwaympg    price\n",
              "0         1          3        alfa-romero giulia  ...       21          27  13495.0\n",
              "1         2          3       alfa-romero stelvio  ...       21          27  16500.0\n",
              "2         3          1  alfa-romero Quadrifoglio  ...       19          26  16500.0\n",
              "3         4          2               audi 100 ls  ...       24          30  13950.0\n",
              "4         5          2                audi 100ls  ...       18          22  17450.0\n",
              "..      ...        ...                       ...  ...      ...         ...      ...\n",
              "200     201         -1           volvo 145e (sw)  ...       23          28  16845.0\n",
              "201     202         -1               volvo 144ea  ...       19          25  19045.0\n",
              "202     203         -1               volvo 244dl  ...       18          23  21485.0\n",
              "203     204         -1                 volvo 246  ...       26          27  22470.0\n",
              "204     205         -1               volvo 264gl  ...       19          25  22625.0\n",
              "\n",
              "[205 rows x 26 columns]"
            ]
          },
          "metadata": {
            "tags": []
          },
          "execution_count": 145
        }
      ]
    },
    {
      "cell_type": "code",
      "metadata": {
        "id": "Xo8Q7txa2zcT"
      },
      "source": [
        "car_data['doornumber'] = car_data['doornumber'].map({'two': 2, 'four': 4})"
      ],
      "execution_count": 146,
      "outputs": []
    },
    {
      "cell_type": "code",
      "metadata": {
        "colab": {
          "base_uri": "https://localhost:8080/",
          "height": 490
        },
        "id": "HgG2Ose-29TF",
        "outputId": "cd4fc89f-2b60-4e1c-879b-2e0054438322"
      },
      "source": [
        "car_data"
      ],
      "execution_count": 147,
      "outputs": [
        {
          "output_type": "execute_result",
          "data": {
            "text/html": [
              "<div>\n",
              "<style scoped>\n",
              "    .dataframe tbody tr th:only-of-type {\n",
              "        vertical-align: middle;\n",
              "    }\n",
              "\n",
              "    .dataframe tbody tr th {\n",
              "        vertical-align: top;\n",
              "    }\n",
              "\n",
              "    .dataframe thead th {\n",
              "        text-align: right;\n",
              "    }\n",
              "</style>\n",
              "<table border=\"1\" class=\"dataframe\">\n",
              "  <thead>\n",
              "    <tr style=\"text-align: right;\">\n",
              "      <th></th>\n",
              "      <th>car_ID</th>\n",
              "      <th>symboling</th>\n",
              "      <th>CarName</th>\n",
              "      <th>fueltype</th>\n",
              "      <th>aspiration</th>\n",
              "      <th>doornumber</th>\n",
              "      <th>carbody</th>\n",
              "      <th>drivewheel</th>\n",
              "      <th>enginelocation</th>\n",
              "      <th>wheelbase</th>\n",
              "      <th>carlength</th>\n",
              "      <th>carwidth</th>\n",
              "      <th>carheight</th>\n",
              "      <th>curbweight</th>\n",
              "      <th>enginetype</th>\n",
              "      <th>cylindernumber</th>\n",
              "      <th>enginesize</th>\n",
              "      <th>fuelsystem</th>\n",
              "      <th>boreratio</th>\n",
              "      <th>stroke</th>\n",
              "      <th>compressionratio</th>\n",
              "      <th>horsepower</th>\n",
              "      <th>peakrpm</th>\n",
              "      <th>citympg</th>\n",
              "      <th>highwaympg</th>\n",
              "      <th>price</th>\n",
              "    </tr>\n",
              "  </thead>\n",
              "  <tbody>\n",
              "    <tr>\n",
              "      <th>0</th>\n",
              "      <td>1</td>\n",
              "      <td>3</td>\n",
              "      <td>alfa-romero giulia</td>\n",
              "      <td>1</td>\n",
              "      <td>0</td>\n",
              "      <td>2</td>\n",
              "      <td>0</td>\n",
              "      <td>2</td>\n",
              "      <td>0</td>\n",
              "      <td>88.6</td>\n",
              "      <td>168.8</td>\n",
              "      <td>64.1</td>\n",
              "      <td>48.8</td>\n",
              "      <td>2548</td>\n",
              "      <td>dohc</td>\n",
              "      <td>4.0</td>\n",
              "      <td>130</td>\n",
              "      <td>mpfi</td>\n",
              "      <td>3.47</td>\n",
              "      <td>2.68</td>\n",
              "      <td>9.0</td>\n",
              "      <td>111</td>\n",
              "      <td>5000</td>\n",
              "      <td>21</td>\n",
              "      <td>27</td>\n",
              "      <td>13495.0</td>\n",
              "    </tr>\n",
              "    <tr>\n",
              "      <th>1</th>\n",
              "      <td>2</td>\n",
              "      <td>3</td>\n",
              "      <td>alfa-romero stelvio</td>\n",
              "      <td>1</td>\n",
              "      <td>0</td>\n",
              "      <td>2</td>\n",
              "      <td>0</td>\n",
              "      <td>2</td>\n",
              "      <td>0</td>\n",
              "      <td>88.6</td>\n",
              "      <td>168.8</td>\n",
              "      <td>64.1</td>\n",
              "      <td>48.8</td>\n",
              "      <td>2548</td>\n",
              "      <td>dohc</td>\n",
              "      <td>4.0</td>\n",
              "      <td>130</td>\n",
              "      <td>mpfi</td>\n",
              "      <td>3.47</td>\n",
              "      <td>2.68</td>\n",
              "      <td>9.0</td>\n",
              "      <td>111</td>\n",
              "      <td>5000</td>\n",
              "      <td>21</td>\n",
              "      <td>27</td>\n",
              "      <td>16500.0</td>\n",
              "    </tr>\n",
              "    <tr>\n",
              "      <th>2</th>\n",
              "      <td>3</td>\n",
              "      <td>1</td>\n",
              "      <td>alfa-romero Quadrifoglio</td>\n",
              "      <td>1</td>\n",
              "      <td>0</td>\n",
              "      <td>2</td>\n",
              "      <td>2</td>\n",
              "      <td>2</td>\n",
              "      <td>0</td>\n",
              "      <td>94.5</td>\n",
              "      <td>171.2</td>\n",
              "      <td>65.5</td>\n",
              "      <td>52.4</td>\n",
              "      <td>2823</td>\n",
              "      <td>ohcv</td>\n",
              "      <td>6.0</td>\n",
              "      <td>152</td>\n",
              "      <td>mpfi</td>\n",
              "      <td>2.68</td>\n",
              "      <td>3.47</td>\n",
              "      <td>9.0</td>\n",
              "      <td>154</td>\n",
              "      <td>5000</td>\n",
              "      <td>19</td>\n",
              "      <td>26</td>\n",
              "      <td>16500.0</td>\n",
              "    </tr>\n",
              "    <tr>\n",
              "      <th>3</th>\n",
              "      <td>4</td>\n",
              "      <td>2</td>\n",
              "      <td>audi 100 ls</td>\n",
              "      <td>1</td>\n",
              "      <td>0</td>\n",
              "      <td>4</td>\n",
              "      <td>3</td>\n",
              "      <td>1</td>\n",
              "      <td>0</td>\n",
              "      <td>99.8</td>\n",
              "      <td>176.6</td>\n",
              "      <td>66.2</td>\n",
              "      <td>54.3</td>\n",
              "      <td>2337</td>\n",
              "      <td>ohc</td>\n",
              "      <td>4.0</td>\n",
              "      <td>109</td>\n",
              "      <td>mpfi</td>\n",
              "      <td>3.19</td>\n",
              "      <td>3.40</td>\n",
              "      <td>10.0</td>\n",
              "      <td>102</td>\n",
              "      <td>5500</td>\n",
              "      <td>24</td>\n",
              "      <td>30</td>\n",
              "      <td>13950.0</td>\n",
              "    </tr>\n",
              "    <tr>\n",
              "      <th>4</th>\n",
              "      <td>5</td>\n",
              "      <td>2</td>\n",
              "      <td>audi 100ls</td>\n",
              "      <td>1</td>\n",
              "      <td>0</td>\n",
              "      <td>4</td>\n",
              "      <td>3</td>\n",
              "      <td>0</td>\n",
              "      <td>0</td>\n",
              "      <td>99.4</td>\n",
              "      <td>176.6</td>\n",
              "      <td>66.4</td>\n",
              "      <td>54.3</td>\n",
              "      <td>2824</td>\n",
              "      <td>ohc</td>\n",
              "      <td>5.0</td>\n",
              "      <td>136</td>\n",
              "      <td>mpfi</td>\n",
              "      <td>3.19</td>\n",
              "      <td>3.40</td>\n",
              "      <td>8.0</td>\n",
              "      <td>115</td>\n",
              "      <td>5500</td>\n",
              "      <td>18</td>\n",
              "      <td>22</td>\n",
              "      <td>17450.0</td>\n",
              "    </tr>\n",
              "    <tr>\n",
              "      <th>...</th>\n",
              "      <td>...</td>\n",
              "      <td>...</td>\n",
              "      <td>...</td>\n",
              "      <td>...</td>\n",
              "      <td>...</td>\n",
              "      <td>...</td>\n",
              "      <td>...</td>\n",
              "      <td>...</td>\n",
              "      <td>...</td>\n",
              "      <td>...</td>\n",
              "      <td>...</td>\n",
              "      <td>...</td>\n",
              "      <td>...</td>\n",
              "      <td>...</td>\n",
              "      <td>...</td>\n",
              "      <td>...</td>\n",
              "      <td>...</td>\n",
              "      <td>...</td>\n",
              "      <td>...</td>\n",
              "      <td>...</td>\n",
              "      <td>...</td>\n",
              "      <td>...</td>\n",
              "      <td>...</td>\n",
              "      <td>...</td>\n",
              "      <td>...</td>\n",
              "      <td>...</td>\n",
              "    </tr>\n",
              "    <tr>\n",
              "      <th>200</th>\n",
              "      <td>201</td>\n",
              "      <td>-1</td>\n",
              "      <td>volvo 145e (sw)</td>\n",
              "      <td>1</td>\n",
              "      <td>0</td>\n",
              "      <td>4</td>\n",
              "      <td>3</td>\n",
              "      <td>2</td>\n",
              "      <td>0</td>\n",
              "      <td>109.1</td>\n",
              "      <td>188.8</td>\n",
              "      <td>68.9</td>\n",
              "      <td>55.5</td>\n",
              "      <td>2952</td>\n",
              "      <td>ohc</td>\n",
              "      <td>4.0</td>\n",
              "      <td>141</td>\n",
              "      <td>mpfi</td>\n",
              "      <td>3.78</td>\n",
              "      <td>3.15</td>\n",
              "      <td>9.5</td>\n",
              "      <td>114</td>\n",
              "      <td>5400</td>\n",
              "      <td>23</td>\n",
              "      <td>28</td>\n",
              "      <td>16845.0</td>\n",
              "    </tr>\n",
              "    <tr>\n",
              "      <th>201</th>\n",
              "      <td>202</td>\n",
              "      <td>-1</td>\n",
              "      <td>volvo 144ea</td>\n",
              "      <td>1</td>\n",
              "      <td>1</td>\n",
              "      <td>4</td>\n",
              "      <td>3</td>\n",
              "      <td>2</td>\n",
              "      <td>0</td>\n",
              "      <td>109.1</td>\n",
              "      <td>188.8</td>\n",
              "      <td>68.8</td>\n",
              "      <td>55.5</td>\n",
              "      <td>3049</td>\n",
              "      <td>ohc</td>\n",
              "      <td>4.0</td>\n",
              "      <td>141</td>\n",
              "      <td>mpfi</td>\n",
              "      <td>3.78</td>\n",
              "      <td>3.15</td>\n",
              "      <td>8.7</td>\n",
              "      <td>160</td>\n",
              "      <td>5300</td>\n",
              "      <td>19</td>\n",
              "      <td>25</td>\n",
              "      <td>19045.0</td>\n",
              "    </tr>\n",
              "    <tr>\n",
              "      <th>202</th>\n",
              "      <td>203</td>\n",
              "      <td>-1</td>\n",
              "      <td>volvo 244dl</td>\n",
              "      <td>1</td>\n",
              "      <td>0</td>\n",
              "      <td>4</td>\n",
              "      <td>3</td>\n",
              "      <td>2</td>\n",
              "      <td>0</td>\n",
              "      <td>109.1</td>\n",
              "      <td>188.8</td>\n",
              "      <td>68.9</td>\n",
              "      <td>55.5</td>\n",
              "      <td>3012</td>\n",
              "      <td>ohcv</td>\n",
              "      <td>6.0</td>\n",
              "      <td>173</td>\n",
              "      <td>mpfi</td>\n",
              "      <td>3.58</td>\n",
              "      <td>2.87</td>\n",
              "      <td>8.8</td>\n",
              "      <td>134</td>\n",
              "      <td>5500</td>\n",
              "      <td>18</td>\n",
              "      <td>23</td>\n",
              "      <td>21485.0</td>\n",
              "    </tr>\n",
              "    <tr>\n",
              "      <th>203</th>\n",
              "      <td>204</td>\n",
              "      <td>-1</td>\n",
              "      <td>volvo 246</td>\n",
              "      <td>0</td>\n",
              "      <td>1</td>\n",
              "      <td>4</td>\n",
              "      <td>3</td>\n",
              "      <td>2</td>\n",
              "      <td>0</td>\n",
              "      <td>109.1</td>\n",
              "      <td>188.8</td>\n",
              "      <td>68.9</td>\n",
              "      <td>55.5</td>\n",
              "      <td>3217</td>\n",
              "      <td>ohc</td>\n",
              "      <td>6.0</td>\n",
              "      <td>145</td>\n",
              "      <td>idi</td>\n",
              "      <td>3.01</td>\n",
              "      <td>3.40</td>\n",
              "      <td>23.0</td>\n",
              "      <td>106</td>\n",
              "      <td>4800</td>\n",
              "      <td>26</td>\n",
              "      <td>27</td>\n",
              "      <td>22470.0</td>\n",
              "    </tr>\n",
              "    <tr>\n",
              "      <th>204</th>\n",
              "      <td>205</td>\n",
              "      <td>-1</td>\n",
              "      <td>volvo 264gl</td>\n",
              "      <td>1</td>\n",
              "      <td>1</td>\n",
              "      <td>4</td>\n",
              "      <td>3</td>\n",
              "      <td>2</td>\n",
              "      <td>0</td>\n",
              "      <td>109.1</td>\n",
              "      <td>188.8</td>\n",
              "      <td>68.9</td>\n",
              "      <td>55.5</td>\n",
              "      <td>3062</td>\n",
              "      <td>ohc</td>\n",
              "      <td>4.0</td>\n",
              "      <td>141</td>\n",
              "      <td>mpfi</td>\n",
              "      <td>3.78</td>\n",
              "      <td>3.15</td>\n",
              "      <td>9.5</td>\n",
              "      <td>114</td>\n",
              "      <td>5400</td>\n",
              "      <td>19</td>\n",
              "      <td>25</td>\n",
              "      <td>22625.0</td>\n",
              "    </tr>\n",
              "  </tbody>\n",
              "</table>\n",
              "<p>205 rows × 26 columns</p>\n",
              "</div>"
            ],
            "text/plain": [
              "     car_ID  symboling                   CarName  ...  citympg  highwaympg    price\n",
              "0         1          3        alfa-romero giulia  ...       21          27  13495.0\n",
              "1         2          3       alfa-romero stelvio  ...       21          27  16500.0\n",
              "2         3          1  alfa-romero Quadrifoglio  ...       19          26  16500.0\n",
              "3         4          2               audi 100 ls  ...       24          30  13950.0\n",
              "4         5          2                audi 100ls  ...       18          22  17450.0\n",
              "..      ...        ...                       ...  ...      ...         ...      ...\n",
              "200     201         -1           volvo 145e (sw)  ...       23          28  16845.0\n",
              "201     202         -1               volvo 144ea  ...       19          25  19045.0\n",
              "202     203         -1               volvo 244dl  ...       18          23  21485.0\n",
              "203     204         -1                 volvo 246  ...       26          27  22470.0\n",
              "204     205         -1               volvo 264gl  ...       19          25  22625.0\n",
              "\n",
              "[205 rows x 26 columns]"
            ]
          },
          "metadata": {
            "tags": []
          },
          "execution_count": 147
        }
      ]
    },
    {
      "cell_type": "code",
      "metadata": {
        "colab": {
          "base_uri": "https://localhost:8080/",
          "height": 870
        },
        "id": "mVCyhtE-5j8m",
        "outputId": "0ddf72c4-ced7-4dab-e0bb-4c4fafdfa0d8"
      },
      "source": [
        "import seaborn as sns\n",
        "corrmat = car_data.corr()\n",
        "top_corr_features = corrmat.index\n",
        "plt.figure(figsize=(20,20))\n",
        "g=sns.heatmap(car_data[top_corr_features].corr(),annot=True,cmap='RdYlGn')"
      ],
      "execution_count": 148,
      "outputs": [
        {
          "output_type": "display_data",
          "data": {
            "image/png": "[encoded data removed]",
            "text/plain": [
              "<Figure size 1440x1440 with 2 Axes>"
            ]
          },
          "metadata": {
            "tags": [],
            "needs_background": "light"
          }
        }
      ]
    },
    {
      "cell_type": "code",
      "metadata": {
        "id": "G3_1CEZ83AlO"
      },
      "source": [
        "data1 = car_data[['horsepower','boreratio','enginesize','curbweight','carwidth','carlength','wheelbase','drivewheel', 'price','enginelocation']]"
      ],
      "execution_count": 149,
      "outputs": []
    },
    {
      "cell_type": "code",
      "metadata": {
        "colab": {
          "base_uri": "https://localhost:8080/"
        },
        "id": "XhdBj8ob4gFw",
        "outputId": "577dc64c-8c7d-4b0c-dc96-5479e53f10ae"
      },
      "source": [
        "data1.shape"
      ],
      "execution_count": 150,
      "outputs": [
        {
          "output_type": "execute_result",
          "data": {
            "text/plain": [
              "(205, 10)"
            ]
          },
          "metadata": {
            "tags": []
          },
          "execution_count": 150
        }
      ]
    },
    {
      "cell_type": "code",
      "metadata": {
        "colab": {
          "base_uri": "https://localhost:8080/",
          "height": 215
        },
        "id": "Al1hdWuH4-zF",
        "outputId": "31129c39-c331-4a74-b800-2dad9a9e67f1"
      },
      "source": [
        "data1.head()"
      ],
      "execution_count": 151,
      "outputs": [
        {
          "output_type": "execute_result",
          "data": {
            "text/html": [
              "<div>\n",
              "<style scoped>\n",
              "    .dataframe tbody tr th:only-of-type {\n",
              "        vertical-align: middle;\n",
              "    }\n",
              "\n",
              "    .dataframe tbody tr th {\n",
              "        vertical-align: top;\n",
              "    }\n",
              "\n",
              "    .dataframe thead th {\n",
              "        text-align: right;\n",
              "    }\n",
              "</style>\n",
              "<table border=\"1\" class=\"dataframe\">\n",
              "  <thead>\n",
              "    <tr style=\"text-align: right;\">\n",
              "      <th></th>\n",
              "      <th>horsepower</th>\n",
              "      <th>boreratio</th>\n",
              "      <th>enginesize</th>\n",
              "      <th>curbweight</th>\n",
              "      <th>carwidth</th>\n",
              "      <th>carlength</th>\n",
              "      <th>wheelbase</th>\n",
              "      <th>drivewheel</th>\n",
              "      <th>price</th>\n",
              "      <th>enginelocation</th>\n",
              "    </tr>\n",
              "  </thead>\n",
              "  <tbody>\n",
              "    <tr>\n",
              "      <th>0</th>\n",
              "      <td>111</td>\n",
              "      <td>3.47</td>\n",
              "      <td>130</td>\n",
              "      <td>2548</td>\n",
              "      <td>64.1</td>\n",
              "      <td>168.8</td>\n",
              "      <td>88.6</td>\n",
              "      <td>2</td>\n",
              "      <td>13495.0</td>\n",
              "      <td>0</td>\n",
              "    </tr>\n",
              "    <tr>\n",
              "      <th>1</th>\n",
              "      <td>111</td>\n",
              "      <td>3.47</td>\n",
              "      <td>130</td>\n",
              "      <td>2548</td>\n",
              "      <td>64.1</td>\n",
              "      <td>168.8</td>\n",
              "      <td>88.6</td>\n",
              "      <td>2</td>\n",
              "      <td>16500.0</td>\n",
              "      <td>0</td>\n",
              "    </tr>\n",
              "    <tr>\n",
              "      <th>2</th>\n",
              "      <td>154</td>\n",
              "      <td>2.68</td>\n",
              "      <td>152</td>\n",
              "      <td>2823</td>\n",
              "      <td>65.5</td>\n",
              "      <td>171.2</td>\n",
              "      <td>94.5</td>\n",
              "      <td>2</td>\n",
              "      <td>16500.0</td>\n",
              "      <td>0</td>\n",
              "    </tr>\n",
              "    <tr>\n",
              "      <th>3</th>\n",
              "      <td>102</td>\n",
              "      <td>3.19</td>\n",
              "      <td>109</td>\n",
              "      <td>2337</td>\n",
              "      <td>66.2</td>\n",
              "      <td>176.6</td>\n",
              "      <td>99.8</td>\n",
              "      <td>1</td>\n",
              "      <td>13950.0</td>\n",
              "      <td>0</td>\n",
              "    </tr>\n",
              "    <tr>\n",
              "      <th>4</th>\n",
              "      <td>115</td>\n",
              "      <td>3.19</td>\n",
              "      <td>136</td>\n",
              "      <td>2824</td>\n",
              "      <td>66.4</td>\n",
              "      <td>176.6</td>\n",
              "      <td>99.4</td>\n",
              "      <td>0</td>\n",
              "      <td>17450.0</td>\n",
              "      <td>0</td>\n",
              "    </tr>\n",
              "  </tbody>\n",
              "</table>\n",
              "</div>"
            ],
            "text/plain": [
              "   horsepower  boreratio  enginesize  ...  drivewheel    price  enginelocation\n",
              "0         111       3.47         130  ...           2  13495.0               0\n",
              "1         111       3.47         130  ...           2  16500.0               0\n",
              "2         154       2.68         152  ...           2  16500.0               0\n",
              "3         102       3.19         109  ...           1  13950.0               0\n",
              "4         115       3.19         136  ...           0  17450.0               0\n",
              "\n",
              "[5 rows x 10 columns]"
            ]
          },
          "metadata": {
            "tags": []
          },
          "execution_count": 151
        }
      ]
    },
    {
      "cell_type": "markdown",
      "metadata": {
        "id": "gtPVhKj9C7Lu"
      },
      "source": [
        "Split data"
      ]
    },
    {
      "cell_type": "code",
      "metadata": {
        "id": "Fs1ijjNFBi0T"
      },
      "source": [
        "x = ( data1.loc[: , data1.columns != 'price'])\n",
        "y = (data1.loc[: , data1.columns == 'price'])\n",
        "from sklearn.model_selection import train_test_split\n",
        "x_train, x_test , y_train,y_test = train_test_split(x,y, test_size = 0.30 , random_state = 42)"
      ],
      "execution_count": 152,
      "outputs": []
    },
    {
      "cell_type": "code",
      "metadata": {
        "colab": {
          "base_uri": "https://localhost:8080/",
          "height": 422
        },
        "id": "tAtCnS33RRyo",
        "outputId": "e613bdde-515b-4bf7-938a-9b8d6cdb1bc2"
      },
      "source": [
        "x_train"
      ],
      "execution_count": 153,
      "outputs": [
        {
          "output_type": "execute_result",
          "data": {
            "text/html": [
              "<div>\n",
              "<style scoped>\n",
              "    .dataframe tbody tr th:only-of-type {\n",
              "        vertical-align: middle;\n",
              "    }\n",
              "\n",
              "    .dataframe tbody tr th {\n",
              "        vertical-align: top;\n",
              "    }\n",
              "\n",
              "    .dataframe thead th {\n",
              "        text-align: right;\n",
              "    }\n",
              "</style>\n",
              "<table border=\"1\" class=\"dataframe\">\n",
              "  <thead>\n",
              "    <tr style=\"text-align: right;\">\n",
              "      <th></th>\n",
              "      <th>horsepower</th>\n",
              "      <th>boreratio</th>\n",
              "      <th>enginesize</th>\n",
              "      <th>curbweight</th>\n",
              "      <th>carwidth</th>\n",
              "      <th>carlength</th>\n",
              "      <th>wheelbase</th>\n",
              "      <th>drivewheel</th>\n",
              "      <th>enginelocation</th>\n",
              "    </tr>\n",
              "  </thead>\n",
              "  <tbody>\n",
              "    <tr>\n",
              "      <th>177</th>\n",
              "      <td>92</td>\n",
              "      <td>3.31</td>\n",
              "      <td>122</td>\n",
              "      <td>2458</td>\n",
              "      <td>66.5</td>\n",
              "      <td>175.6</td>\n",
              "      <td>102.4</td>\n",
              "      <td>1</td>\n",
              "      <td>0</td>\n",
              "    </tr>\n",
              "    <tr>\n",
              "      <th>75</th>\n",
              "      <td>175</td>\n",
              "      <td>3.78</td>\n",
              "      <td>140</td>\n",
              "      <td>2910</td>\n",
              "      <td>68.0</td>\n",
              "      <td>178.4</td>\n",
              "      <td>102.7</td>\n",
              "      <td>2</td>\n",
              "      <td>0</td>\n",
              "    </tr>\n",
              "    <tr>\n",
              "      <th>174</th>\n",
              "      <td>73</td>\n",
              "      <td>3.27</td>\n",
              "      <td>110</td>\n",
              "      <td>2480</td>\n",
              "      <td>66.5</td>\n",
              "      <td>175.6</td>\n",
              "      <td>102.4</td>\n",
              "      <td>1</td>\n",
              "      <td>0</td>\n",
              "    </tr>\n",
              "    <tr>\n",
              "      <th>31</th>\n",
              "      <td>76</td>\n",
              "      <td>2.91</td>\n",
              "      <td>92</td>\n",
              "      <td>1819</td>\n",
              "      <td>63.9</td>\n",
              "      <td>144.6</td>\n",
              "      <td>86.6</td>\n",
              "      <td>1</td>\n",
              "      <td>0</td>\n",
              "    </tr>\n",
              "    <tr>\n",
              "      <th>12</th>\n",
              "      <td>121</td>\n",
              "      <td>3.31</td>\n",
              "      <td>164</td>\n",
              "      <td>2710</td>\n",
              "      <td>64.8</td>\n",
              "      <td>176.8</td>\n",
              "      <td>101.2</td>\n",
              "      <td>2</td>\n",
              "      <td>0</td>\n",
              "    </tr>\n",
              "    <tr>\n",
              "      <th>...</th>\n",
              "      <td>...</td>\n",
              "      <td>...</td>\n",
              "      <td>...</td>\n",
              "      <td>...</td>\n",
              "      <td>...</td>\n",
              "      <td>...</td>\n",
              "      <td>...</td>\n",
              "      <td>...</td>\n",
              "      <td>...</td>\n",
              "    </tr>\n",
              "    <tr>\n",
              "      <th>106</th>\n",
              "      <td>160</td>\n",
              "      <td>3.43</td>\n",
              "      <td>181</td>\n",
              "      <td>3139</td>\n",
              "      <td>67.9</td>\n",
              "      <td>178.5</td>\n",
              "      <td>99.2</td>\n",
              "      <td>2</td>\n",
              "      <td>0</td>\n",
              "    </tr>\n",
              "    <tr>\n",
              "      <th>14</th>\n",
              "      <td>121</td>\n",
              "      <td>3.31</td>\n",
              "      <td>164</td>\n",
              "      <td>3055</td>\n",
              "      <td>66.9</td>\n",
              "      <td>189.0</td>\n",
              "      <td>103.5</td>\n",
              "      <td>2</td>\n",
              "      <td>0</td>\n",
              "    </tr>\n",
              "    <tr>\n",
              "      <th>92</th>\n",
              "      <td>69</td>\n",
              "      <td>3.15</td>\n",
              "      <td>97</td>\n",
              "      <td>1938</td>\n",
              "      <td>63.8</td>\n",
              "      <td>165.3</td>\n",
              "      <td>94.5</td>\n",
              "      <td>1</td>\n",
              "      <td>0</td>\n",
              "    </tr>\n",
              "    <tr>\n",
              "      <th>179</th>\n",
              "      <td>161</td>\n",
              "      <td>3.27</td>\n",
              "      <td>171</td>\n",
              "      <td>3016</td>\n",
              "      <td>67.7</td>\n",
              "      <td>183.5</td>\n",
              "      <td>102.9</td>\n",
              "      <td>2</td>\n",
              "      <td>0</td>\n",
              "    </tr>\n",
              "    <tr>\n",
              "      <th>102</th>\n",
              "      <td>152</td>\n",
              "      <td>3.43</td>\n",
              "      <td>181</td>\n",
              "      <td>3296</td>\n",
              "      <td>66.5</td>\n",
              "      <td>184.6</td>\n",
              "      <td>100.4</td>\n",
              "      <td>1</td>\n",
              "      <td>0</td>\n",
              "    </tr>\n",
              "  </tbody>\n",
              "</table>\n",
              "<p>143 rows × 9 columns</p>\n",
              "</div>"
            ],
            "text/plain": [
              "     horsepower  boreratio  enginesize  ...  wheelbase  drivewheel  enginelocation\n",
              "177          92       3.31         122  ...      102.4           1               0\n",
              "75          175       3.78         140  ...      102.7           2               0\n",
              "174          73       3.27         110  ...      102.4           1               0\n",
              "31           76       2.91          92  ...       86.6           1               0\n",
              "12          121       3.31         164  ...      101.2           2               0\n",
              "..          ...        ...         ...  ...        ...         ...             ...\n",
              "106         160       3.43         181  ...       99.2           2               0\n",
              "14          121       3.31         164  ...      103.5           2               0\n",
              "92           69       3.15          97  ...       94.5           1               0\n",
              "179         161       3.27         171  ...      102.9           2               0\n",
              "102         152       3.43         181  ...      100.4           1               0\n",
              "\n",
              "[143 rows x 9 columns]"
            ]
          },
          "metadata": {
            "tags": []
          },
          "execution_count": 153
        }
      ]
    },
    {
      "cell_type": "markdown",
      "metadata": {
        "id": "tguOx8ZGDBoy"
      },
      "source": [
        "Model definition"
      ]
    },
    {
      "cell_type": "code",
      "metadata": {
        "id": "YmpV4LAMGI-D"
      },
      "source": [
        "from keras import models\n",
        "from keras import layers\n",
        "def build_model(act):\n",
        "  model = models.Sequential()\n",
        "  model.add(layers.Dense(10, activation= act,input_shape=(x_train.shape[1],)))\n",
        "  model.add(layers.Dense(8, activation= act))\n",
        "  model.add(layers.Dense(6, activation= act))\n",
        "  model.add(layers.Dense(1))\n",
        "  model.compile(optimizer='rmsprop', loss='mse', metrics=['mae'])\n",
        "  return model"
      ],
      "execution_count": 233,
      "outputs": []
    },
    {
      "cell_type": "code",
      "metadata": {
        "colab": {
          "base_uri": "https://localhost:8080/"
        },
        "id": "pMLStBChPaAL",
        "outputId": "c014f0b5-2e5a-4f9a-acd4-ec2f2a2ee9c2"
      },
      "source": [
        "build_model('relu').summary()"
      ],
      "execution_count": 234,
      "outputs": [
        {
          "output_type": "stream",
          "text": [
            "Model: \"sequential_66\"\n",
            "_________________________________________________________________\n",
            "Layer (type)                 Output Shape              Param #   \n",
            "=================================================================\n",
            "dense_260 (Dense)            (None, 10)                100       \n",
            "_________________________________________________________________\n",
            "dense_261 (Dense)            (None, 8)                 88        \n",
            "_________________________________________________________________\n",
            "dense_262 (Dense)            (None, 6)                 54        \n",
            "_________________________________________________________________\n",
            "dense_263 (Dense)            (None, 1)                 7         \n",
            "=================================================================\n",
            "Total params: 249\n",
            "Trainable params: 249\n",
            "Non-trainable params: 0\n",
            "_________________________________________________________________\n"
          ],
          "name": "stdout"
        }
      ]
    },
    {
      "cell_type": "code",
      "metadata": {
        "colab": {
          "base_uri": "https://localhost:8080/"
        },
        "id": "q59ENok3Pve_",
        "outputId": "08a64090-1430-4d5d-e8fc-4fd63fbcc4ae"
      },
      "source": [
        "build_model('tanh').summary()"
      ],
      "execution_count": 235,
      "outputs": [
        {
          "output_type": "stream",
          "text": [
            "Model: \"sequential_67\"\n",
            "_________________________________________________________________\n",
            "Layer (type)                 Output Shape              Param #   \n",
            "=================================================================\n",
            "dense_264 (Dense)            (None, 10)                100       \n",
            "_________________________________________________________________\n",
            "dense_265 (Dense)            (None, 8)                 88        \n",
            "_________________________________________________________________\n",
            "dense_266 (Dense)            (None, 6)                 54        \n",
            "_________________________________________________________________\n",
            "dense_267 (Dense)            (None, 1)                 7         \n",
            "=================================================================\n",
            "Total params: 249\n",
            "Trainable params: 249\n",
            "Non-trainable params: 0\n",
            "_________________________________________________________________\n"
          ],
          "name": "stdout"
        }
      ]
    },
    {
      "cell_type": "code",
      "metadata": {
        "id": "fpwthq0xN9-t"
      },
      "source": [
        "# Regularized model\n",
        "from keras import regularizers\n",
        "def build_model_regular(act):\n",
        "  model = models.Sequential()\n",
        "  model.add(layers.Dense(10, activation= act,kernel_regularizer= regularizers.l1_l2(l1=0.001, l2=0.001),input_shape=(x_train.shape[1],)))\n",
        "  model.add(layers.Dense(8, activation= act,kernel_regularizer= regularizers.l1_l2(l1=0.001, l2=0.001)))\n",
        "  model.add(layers.Dense(6, activation= act,kernel_regularizer= regularizers.l1_l2(l1=0.001, l2=0.001)))\n",
        "  model.add(layers.Dense(1))\n",
        "  model.compile(optimizer='rmsprop', loss='mse', metrics=['mae'])\n",
        "  return model"
      ],
      "execution_count": 236,
      "outputs": []
    },
    {
      "cell_type": "code",
      "metadata": {
        "colab": {
          "base_uri": "https://localhost:8080/"
        },
        "id": "3dnbfYnzQLCz",
        "outputId": "7026f761-7663-4b8a-c3b3-706489002a83"
      },
      "source": [
        "build_model_regular('tanh').summary()"
      ],
      "execution_count": 237,
      "outputs": [
        {
          "output_type": "stream",
          "text": [
            "Model: \"sequential_68\"\n",
            "_________________________________________________________________\n",
            "Layer (type)                 Output Shape              Param #   \n",
            "=================================================================\n",
            "dense_268 (Dense)            (None, 10)                100       \n",
            "_________________________________________________________________\n",
            "dense_269 (Dense)            (None, 8)                 88        \n",
            "_________________________________________________________________\n",
            "dense_270 (Dense)            (None, 6)                 54        \n",
            "_________________________________________________________________\n",
            "dense_271 (Dense)            (None, 1)                 7         \n",
            "=================================================================\n",
            "Total params: 249\n",
            "Trainable params: 249\n",
            "Non-trainable params: 0\n",
            "_________________________________________________________________\n"
          ],
          "name": "stdout"
        }
      ]
    },
    {
      "cell_type": "code",
      "metadata": {
        "id": "a4X7U7CWQmxg"
      },
      "source": [
        "# dropout model\n",
        "from keras import regularizers\n",
        "def build_model_drop(act):\n",
        "  model = models.Sequential()\n",
        "  model.add(layers.Dense(10, activation= act,input_shape=(x_train.shape[1],)))\n",
        "  model.add(layers.Dropout(0.2))\n",
        "  model.add(layers.Dense(8, activation= act))\n",
        "  model.add(layers.Dropout(0.2))\n",
        "  model.add(layers.Dense(6, activation= act))\n",
        "  model.add(layers.Dropout(0.2))\n",
        "  model.add(layers.Dense(1))\n",
        "  model.compile(optimizer='rmsprop', loss='mse', metrics=['mae'])\n",
        "  return model"
      ],
      "execution_count": 238,
      "outputs": []
    },
    {
      "cell_type": "code",
      "metadata": {
        "colab": {
          "base_uri": "https://localhost:8080/"
        },
        "id": "AZ7ZBM8LQ7d3",
        "outputId": "8baddd7f-7c2c-4f56-e6ca-4d5a4d0c97ad"
      },
      "source": [
        "build_model_drop('relu').summary()"
      ],
      "execution_count": 239,
      "outputs": [
        {
          "output_type": "stream",
          "text": [
            "Model: \"sequential_69\"\n",
            "_________________________________________________________________\n",
            "Layer (type)                 Output Shape              Param #   \n",
            "=================================================================\n",
            "dense_272 (Dense)            (None, 10)                100       \n",
            "_________________________________________________________________\n",
            "dropout_39 (Dropout)         (None, 10)                0         \n",
            "_________________________________________________________________\n",
            "dense_273 (Dense)            (None, 8)                 88        \n",
            "_________________________________________________________________\n",
            "dropout_40 (Dropout)         (None, 8)                 0         \n",
            "_________________________________________________________________\n",
            "dense_274 (Dense)            (None, 6)                 54        \n",
            "_________________________________________________________________\n",
            "dropout_41 (Dropout)         (None, 6)                 0         \n",
            "_________________________________________________________________\n",
            "dense_275 (Dense)            (None, 1)                 7         \n",
            "=================================================================\n",
            "Total params: 249\n",
            "Trainable params: 249\n",
            "Non-trainable params: 0\n",
            "_________________________________________________________________\n"
          ],
          "name": "stdout"
        }
      ]
    },
    {
      "cell_type": "code",
      "metadata": {
        "colab": {
          "base_uri": "https://localhost:8080/"
        },
        "id": "rvpvhMaTSW8m",
        "outputId": "2c90fd5d-d0ce-4e7e-a8c7-c6de10188f02"
      },
      "source": [
        "build_model('relu').fit(x_train,y_train ,epochs= 100)"
      ],
      "execution_count": 240,
      "outputs": [
        {
          "output_type": "stream",
          "text": [
            "Epoch 1/100\n",
            "5/5 [==============================] - 1s 3ms/step - loss: 232328018.6667 - mae: 13371.0145\n",
            "Epoch 2/100\n",
            "5/5 [==============================] - 0s 3ms/step - loss: 260851576.0000 - mae: 13888.2209\n",
            "Epoch 3/100\n",
            "5/5 [==============================] - 0s 3ms/step - loss: 245329842.6667 - mae: 13734.4484\n",
            "Epoch 4/100\n",
            "5/5 [==============================] - 0s 3ms/step - loss: 247638898.6667 - mae: 13457.7479\n",
            "Epoch 5/100\n",
            "5/5 [==============================] - 0s 3ms/step - loss: 228066994.6667 - mae: 13120.8379\n",
            "Epoch 6/100\n",
            "5/5 [==============================] - 0s 3ms/step - loss: 242335792.0000 - mae: 13612.7375\n",
            "Epoch 7/100\n",
            "5/5 [==============================] - 0s 3ms/step - loss: 251570280.0000 - mae: 13620.8670\n",
            "Epoch 8/100\n",
            "5/5 [==============================] - 0s 3ms/step - loss: 252340509.3333 - mae: 13739.4277\n",
            "Epoch 9/100\n",
            "5/5 [==============================] - 0s 3ms/step - loss: 247187402.6667 - mae: 13623.6940\n",
            "Epoch 10/100\n",
            "5/5 [==============================] - 0s 3ms/step - loss: 239782626.6667 - mae: 13281.5999\n",
            "Epoch 11/100\n",
            "5/5 [==============================] - 0s 2ms/step - loss: 209480189.3333 - mae: 12528.2218\n",
            "Epoch 12/100\n",
            "5/5 [==============================] - 0s 3ms/step - loss: 228507253.3333 - mae: 13181.7139\n",
            "Epoch 13/100\n",
            "5/5 [==============================] - 0s 5ms/step - loss: 229957026.6667 - mae: 13201.7721\n",
            "Epoch 14/100\n",
            "5/5 [==============================] - 0s 3ms/step - loss: 248640306.6667 - mae: 13719.1164\n",
            "Epoch 15/100\n",
            "5/5 [==============================] - 0s 3ms/step - loss: 231696818.6667 - mae: 13259.3739\n",
            "Epoch 16/100\n",
            "5/5 [==============================] - 0s 3ms/step - loss: 262762762.6667 - mae: 13779.3994\n",
            "Epoch 17/100\n",
            "5/5 [==============================] - 0s 3ms/step - loss: 227405848.0000 - mae: 12980.9811\n",
            "Epoch 18/100\n",
            "5/5 [==============================] - 0s 3ms/step - loss: 262975840.0000 - mae: 13838.7116\n",
            "Epoch 19/100\n",
            "5/5 [==============================] - 0s 3ms/step - loss: 243009120.0000 - mae: 13767.9360\n",
            "Epoch 20/100\n",
            "5/5 [==============================] - 0s 4ms/step - loss: 245357410.6667 - mae: 13623.8094\n",
            "Epoch 21/100\n",
            "5/5 [==============================] - 0s 3ms/step - loss: 256968888.0000 - mae: 13737.2651\n",
            "Epoch 22/100\n",
            "5/5 [==============================] - 0s 3ms/step - loss: 262289781.3333 - mae: 13810.8983\n",
            "Epoch 23/100\n",
            "5/5 [==============================] - 0s 3ms/step - loss: 246152306.6667 - mae: 13448.1187\n",
            "Epoch 24/100\n",
            "5/5 [==============================] - 0s 2ms/step - loss: 243286106.6667 - mae: 13381.5485\n",
            "Epoch 25/100\n",
            "5/5 [==============================] - 0s 3ms/step - loss: 263598994.6667 - mae: 13947.4515\n",
            "Epoch 26/100\n",
            "5/5 [==============================] - 0s 3ms/step - loss: 256139698.6667 - mae: 13870.2075\n",
            "Epoch 27/100\n",
            "5/5 [==============================] - 0s 3ms/step - loss: 235639989.3333 - mae: 13182.9626\n",
            "Epoch 28/100\n",
            "5/5 [==============================] - 0s 2ms/step - loss: 243947882.6667 - mae: 13515.1546\n",
            "Epoch 29/100\n",
            "5/5 [==============================] - 0s 3ms/step - loss: 263814557.3333 - mae: 13794.7762\n",
            "Epoch 30/100\n",
            "5/5 [==============================] - 0s 3ms/step - loss: 249304512.0000 - mae: 13564.1763\n",
            "Epoch 31/100\n",
            "5/5 [==============================] - 0s 4ms/step - loss: 238741442.6667 - mae: 13371.0005\n",
            "Epoch 32/100\n",
            "5/5 [==============================] - 0s 3ms/step - loss: 230750528.0000 - mae: 13072.6108\n",
            "Epoch 33/100\n",
            "5/5 [==============================] - 0s 3ms/step - loss: 243973461.3333 - mae: 13461.6405\n",
            "Epoch 34/100\n",
            "5/5 [==============================] - 0s 3ms/step - loss: 240509088.0000 - mae: 13311.4565\n",
            "Epoch 35/100\n",
            "5/5 [==============================] - 0s 4ms/step - loss: 234798746.6667 - mae: 13226.9826\n",
            "Epoch 36/100\n",
            "5/5 [==============================] - 0s 2ms/step - loss: 250941853.3333 - mae: 13537.1183\n",
            "Epoch 37/100\n",
            "5/5 [==============================] - 0s 3ms/step - loss: 238895981.3333 - mae: 13274.3172\n",
            "Epoch 38/100\n",
            "5/5 [==============================] - 0s 3ms/step - loss: 252185154.6667 - mae: 13701.4159\n",
            "Epoch 39/100\n",
            "5/5 [==============================] - 0s 3ms/step - loss: 241658400.0000 - mae: 13491.9290\n",
            "Epoch 40/100\n",
            "5/5 [==============================] - 0s 2ms/step - loss: 232204349.3333 - mae: 13239.0156\n",
            "Epoch 41/100\n",
            "5/5 [==============================] - 0s 3ms/step - loss: 240132981.3333 - mae: 13383.7951\n",
            "Epoch 42/100\n",
            "5/5 [==============================] - 0s 3ms/step - loss: 241611064.0000 - mae: 13306.9728\n",
            "Epoch 43/100\n",
            "5/5 [==============================] - 0s 2ms/step - loss: 225658058.6667 - mae: 13089.1974\n",
            "Epoch 44/100\n",
            "5/5 [==============================] - 0s 2ms/step - loss: 232589840.0000 - mae: 13220.1385\n",
            "Epoch 45/100\n",
            "5/5 [==============================] - 0s 3ms/step - loss: 244451101.3333 - mae: 13532.4303\n",
            "Epoch 46/100\n",
            "5/5 [==============================] - 0s 3ms/step - loss: 230189549.3333 - mae: 13098.4567\n",
            "Epoch 47/100\n",
            "5/5 [==============================] - 0s 4ms/step - loss: 240170501.3333 - mae: 13284.3332\n",
            "Epoch 48/100\n",
            "5/5 [==============================] - 0s 3ms/step - loss: 217388544.0000 - mae: 12882.7694\n",
            "Epoch 49/100\n",
            "5/5 [==============================] - 0s 3ms/step - loss: 269569941.3333 - mae: 14047.3727\n",
            "Epoch 50/100\n",
            "5/5 [==============================] - 0s 3ms/step - loss: 251168562.6667 - mae: 13699.6963\n",
            "Epoch 51/100\n",
            "5/5 [==============================] - 0s 3ms/step - loss: 227864322.6667 - mae: 13086.5329\n",
            "Epoch 52/100\n",
            "5/5 [==============================] - 0s 3ms/step - loss: 250890949.3333 - mae: 13697.0050\n",
            "Epoch 53/100\n",
            "5/5 [==============================] - 0s 3ms/step - loss: 256183805.3333 - mae: 13704.4683\n",
            "Epoch 54/100\n",
            "5/5 [==============================] - 0s 2ms/step - loss: 238061090.6667 - mae: 13298.7272\n",
            "Epoch 55/100\n",
            "5/5 [==============================] - 0s 3ms/step - loss: 263495525.3333 - mae: 13983.5770\n",
            "Epoch 56/100\n",
            "5/5 [==============================] - 0s 3ms/step - loss: 225906498.6667 - mae: 13178.6341\n",
            "Epoch 57/100\n",
            "5/5 [==============================] - 0s 3ms/step - loss: 213339749.3333 - mae: 12689.4888\n",
            "Epoch 58/100\n",
            "5/5 [==============================] - 0s 3ms/step - loss: 243707978.6667 - mae: 13528.7642\n",
            "Epoch 59/100\n",
            "5/5 [==============================] - 0s 4ms/step - loss: 229662680.0000 - mae: 12977.6328\n",
            "Epoch 60/100\n",
            "5/5 [==============================] - 0s 3ms/step - loss: 228202074.6667 - mae: 12983.0490\n",
            "Epoch 61/100\n",
            "5/5 [==============================] - 0s 4ms/step - loss: 241217645.3333 - mae: 13452.1733\n",
            "Epoch 62/100\n",
            "5/5 [==============================] - 0s 3ms/step - loss: 267006360.0000 - mae: 14013.4714\n",
            "Epoch 63/100\n",
            "5/5 [==============================] - 0s 4ms/step - loss: 217071157.3333 - mae: 12967.1217\n",
            "Epoch 64/100\n",
            "5/5 [==============================] - 0s 4ms/step - loss: 244096002.6667 - mae: 13391.6574\n",
            "Epoch 65/100\n",
            "5/5 [==============================] - 0s 3ms/step - loss: 227464221.3333 - mae: 13073.0046\n",
            "Epoch 66/100\n",
            "5/5 [==============================] - 0s 3ms/step - loss: 256979648.0000 - mae: 13763.2406\n",
            "Epoch 67/100\n",
            "5/5 [==============================] - 0s 3ms/step - loss: 237921797.3333 - mae: 13376.3913\n",
            "Epoch 68/100\n",
            "5/5 [==============================] - 0s 4ms/step - loss: 232277109.3333 - mae: 13210.7458\n",
            "Epoch 69/100\n",
            "5/5 [==============================] - 0s 4ms/step - loss: 243573093.3333 - mae: 13555.9445\n",
            "Epoch 70/100\n",
            "5/5 [==============================] - 0s 3ms/step - loss: 246428600.0000 - mae: 13637.9565\n",
            "Epoch 71/100\n",
            "5/5 [==============================] - 0s 4ms/step - loss: 237509912.0000 - mae: 13280.9813\n",
            "Epoch 72/100\n",
            "5/5 [==============================] - 0s 3ms/step - loss: 207102728.0000 - mae: 12503.6733\n",
            "Epoch 73/100\n",
            "5/5 [==============================] - 0s 3ms/step - loss: 216157410.6667 - mae: 12845.3862\n",
            "Epoch 74/100\n",
            "5/5 [==============================] - 0s 3ms/step - loss: 242245506.6667 - mae: 13438.8171\n",
            "Epoch 75/100\n",
            "5/5 [==============================] - 0s 5ms/step - loss: 243238794.6667 - mae: 13600.5327\n",
            "Epoch 76/100\n",
            "5/5 [==============================] - 0s 3ms/step - loss: 214503720.0000 - mae: 12871.1842\n",
            "Epoch 77/100\n",
            "5/5 [==============================] - 0s 3ms/step - loss: 199967792.0000 - mae: 12349.2814\n",
            "Epoch 78/100\n",
            "5/5 [==============================] - 0s 3ms/step - loss: 239165973.3333 - mae: 13568.0534\n",
            "Epoch 79/100\n",
            "5/5 [==============================] - 0s 3ms/step - loss: 223748282.6667 - mae: 12819.3154\n",
            "Epoch 80/100\n",
            "5/5 [==============================] - 0s 4ms/step - loss: 247131989.3333 - mae: 13532.2892\n",
            "Epoch 81/100\n",
            "5/5 [==============================] - 0s 3ms/step - loss: 263303850.6667 - mae: 13964.7752\n",
            "Epoch 82/100\n",
            "5/5 [==============================] - 0s 4ms/step - loss: 217824521.3333 - mae: 12760.1532\n",
            "Epoch 83/100\n",
            "5/5 [==============================] - 0s 4ms/step - loss: 215024509.3333 - mae: 12808.0015\n",
            "Epoch 84/100\n",
            "5/5 [==============================] - 0s 4ms/step - loss: 257738410.6667 - mae: 13819.2254\n",
            "Epoch 85/100\n",
            "5/5 [==============================] - 0s 3ms/step - loss: 226122866.6667 - mae: 12991.5687\n",
            "Epoch 86/100\n",
            "5/5 [==============================] - 0s 3ms/step - loss: 227859229.3333 - mae: 13093.4943\n",
            "Epoch 87/100\n",
            "5/5 [==============================] - 0s 2ms/step - loss: 237910877.3333 - mae: 13440.6842\n",
            "Epoch 88/100\n",
            "5/5 [==============================] - 0s 2ms/step - loss: 255764445.3333 - mae: 13608.3623\n",
            "Epoch 89/100\n",
            "5/5 [==============================] - 0s 3ms/step - loss: 246582218.6667 - mae: 13498.2689\n",
            "Epoch 90/100\n",
            "5/5 [==============================] - 0s 2ms/step - loss: 251494149.3333 - mae: 13712.2109\n",
            "Epoch 91/100\n",
            "5/5 [==============================] - 0s 2ms/step - loss: 253193122.6667 - mae: 13560.8185\n",
            "Epoch 92/100\n",
            "5/5 [==============================] - 0s 3ms/step - loss: 252739130.6667 - mae: 13547.4515\n",
            "Epoch 93/100\n",
            "5/5 [==============================] - 0s 3ms/step - loss: 267101288.0000 - mae: 13988.7497\n",
            "Epoch 94/100\n",
            "5/5 [==============================] - 0s 3ms/step - loss: 254101856.0000 - mae: 13561.9766\n",
            "Epoch 95/100\n",
            "5/5 [==============================] - 0s 2ms/step - loss: 250964234.6667 - mae: 13657.1305\n",
            "Epoch 96/100\n",
            "5/5 [==============================] - 0s 2ms/step - loss: 235569592.0000 - mae: 13311.7257\n",
            "Epoch 97/100\n",
            "5/5 [==============================] - 0s 2ms/step - loss: 258922677.3333 - mae: 13765.0636\n",
            "Epoch 98/100\n",
            "5/5 [==============================] - 0s 2ms/step - loss: 234204944.0000 - mae: 13196.7969\n",
            "Epoch 99/100\n",
            "5/5 [==============================] - 0s 2ms/step - loss: 262571397.3333 - mae: 14098.9591\n",
            "Epoch 100/100\n",
            "5/5 [==============================] - 0s 2ms/step - loss: 224741565.3333 - mae: 12949.6398\n"
          ],
          "name": "stdout"
        },
        {
          "output_type": "execute_result",
          "data": {
            "text/plain": [
              "<tensorflow.python.keras.callbacks.History at 0x7f41e8f60ad0>"
            ]
          },
          "metadata": {
            "tags": []
          },
          "execution_count": 240
        }
      ]
    },
    {
      "cell_type": "markdown",
      "metadata": {
        "id": "sEBOonHdUv3N"
      },
      "source": [
        "K-fold validation with relu"
      ]
    },
    {
      "cell_type": "code",
      "metadata": {
        "colab": {
          "base_uri": "https://localhost:8080/"
        },
        "id": "eXGAWuvNUxIM",
        "outputId": "d6085902-3a95-4725-d3e7-00ff48f9d4a5"
      },
      "source": [
        "import numpy as np\n",
        "k=4\n",
        "num_val_samples = len(x_train) // k\n",
        "num_epochs = 100\n",
        "all_scores_relu = []\n",
        "for i in range(k):\n",
        "  print('processing fold #', i)\n",
        "  val_data = x_train[i * num_val_samples: (i + 1) * num_val_samples]\n",
        "  val_targets = y_train[i * num_val_samples: (i + 1) * num_val_samples]\n",
        "  partial_train_data = np.concatenate(\n",
        "  [x_train[:i * num_val_samples],\n",
        "  x_train[(i + 1) * num_val_samples:]],axis=0)\n",
        "  partial_train_targets = np.concatenate([y_train[:i * num_val_samples],\n",
        "  y_train[(i + 1) * num_val_samples:]],axis=0)\n",
        "  model = build_model('relu')\n",
        "  model.fit(partial_train_data, partial_train_targets,\n",
        "  epochs=num_epochs, batch_size=1, verbose=0)\n",
        "  val_mse, val_mae = model.evaluate(val_data, val_targets, verbose=0)\n",
        "  all_scores_relu.append(val_mae)"
      ],
      "execution_count": 241,
      "outputs": [
        {
          "output_type": "stream",
          "text": [
            "processing fold # 0\n",
            "WARNING:tensorflow:6 out of the last 11 calls to <function Model.make_test_function.<locals>.test_function at 0x7f41cff810e0> triggered tf.function retracing. Tracing is expensive and the excessive number of tracings could be due to (1) creating @tf.function repeatedly in a loop, (2) passing tensors with different shapes, (3) passing Python objects instead of tensors. For (1), please define your @tf.function outside of the loop. For (2), @tf.function has experimental_relax_shapes=True option that relaxes argument shapes that can avoid unnecessary retracing. For (3), please refer to https://www.tensorflow.org/guide/function#controlling_retracing and https://www.tensorflow.org/api_docs/python/tf/function for  more details.\n",
            "processing fold # 1\n",
            "WARNING:tensorflow:6 out of the last 11 calls to <function Model.make_test_function.<locals>.test_function at 0x7f41cdb7de60> triggered tf.function retracing. Tracing is expensive and the excessive number of tracings could be due to (1) creating @tf.function repeatedly in a loop, (2) passing tensors with different shapes, (3) passing Python objects instead of tensors. For (1), please define your @tf.function outside of the loop. For (2), @tf.function has experimental_relax_shapes=True option that relaxes argument shapes that can avoid unnecessary retracing. For (3), please refer to https://www.tensorflow.org/guide/function#controlling_retracing and https://www.tensorflow.org/api_docs/python/tf/function for  more details.\n",
            "processing fold # 2\n",
            "WARNING:tensorflow:6 out of the last 11 calls to <function Model.make_test_function.<locals>.test_function at 0x7f41cf604050> triggered tf.function retracing. Tracing is expensive and the excessive number of tracings could be due to (1) creating @tf.function repeatedly in a loop, (2) passing tensors with different shapes, (3) passing Python objects instead of tensors. For (1), please define your @tf.function outside of the loop. For (2), @tf.function has experimental_relax_shapes=True option that relaxes argument shapes that can avoid unnecessary retracing. For (3), please refer to https://www.tensorflow.org/guide/function#controlling_retracing and https://www.tensorflow.org/api_docs/python/tf/function for  more details.\n",
            "processing fold # 3\n",
            "WARNING:tensorflow:6 out of the last 11 calls to <function Model.make_test_function.<locals>.test_function at 0x7f41d0899b00> triggered tf.function retracing. Tracing is expensive and the excessive number of tracings could be due to (1) creating @tf.function repeatedly in a loop, (2) passing tensors with different shapes, (3) passing Python objects instead of tensors. For (1), please define your @tf.function outside of the loop. For (2), @tf.function has experimental_relax_shapes=True option that relaxes argument shapes that can avoid unnecessary retracing. For (3), please refer to https://www.tensorflow.org/guide/function#controlling_retracing and https://www.tensorflow.org/api_docs/python/tf/function for  more details.\n"
          ],
          "name": "stdout"
        }
      ]
    },
    {
      "cell_type": "markdown",
      "metadata": {
        "id": "JKD7UZt4WrBc"
      },
      "source": [
        "k-fold validation with tanh"
      ]
    },
    {
      "cell_type": "code",
      "metadata": {
        "colab": {
          "base_uri": "https://localhost:8080/"
        },
        "id": "bx_96ip-Ww4o",
        "outputId": "96641236-9f21-4835-abb4-defc36368e2b"
      },
      "source": [
        "import numpy as np\n",
        "k=4\n",
        "num_val_samples = len(x_train) // k\n",
        "num_epochs = 100\n",
        "all_scores_tanh = []\n",
        "for i in range(k):\n",
        "  print('processing fold #', i)\n",
        "  val_data = x_train[i * num_val_samples: (i + 1) * num_val_samples]\n",
        "  val_targets = y_train[i * num_val_samples: (i + 1) * num_val_samples]\n",
        "  partial_train_data = np.concatenate(\n",
        "  [x_train[:i * num_val_samples],\n",
        "  x_train[(i + 1) * num_val_samples:]],axis=0)\n",
        "  partial_train_targets = np.concatenate([y_train[:i * num_val_samples],\n",
        "  y_train[(i + 1) * num_val_samples:]],axis=0)\n",
        "  model = build_model('tanh')\n",
        "  model.fit(partial_train_data, partial_train_targets,epochs=num_epochs, batch_size=1, verbose=0)\n",
        "  val_mse, val_mae = model.evaluate(val_data, val_targets, verbose=0)\n",
        "  all_scores_tanh.append(val_mae)"
      ],
      "execution_count": 242,
      "outputs": [
        {
          "output_type": "stream",
          "text": [
            "processing fold # 0\n",
            "WARNING:tensorflow:6 out of the last 11 calls to <function Model.make_test_function.<locals>.test_function at 0x7f41cda8b200> triggered tf.function retracing. Tracing is expensive and the excessive number of tracings could be due to (1) creating @tf.function repeatedly in a loop, (2) passing tensors with different shapes, (3) passing Python objects instead of tensors. For (1), please define your @tf.function outside of the loop. For (2), @tf.function has experimental_relax_shapes=True option that relaxes argument shapes that can avoid unnecessary retracing. For (3), please refer to https://www.tensorflow.org/guide/function#controlling_retracing and https://www.tensorflow.org/api_docs/python/tf/function for  more details.\n",
            "processing fold # 1\n",
            "WARNING:tensorflow:6 out of the last 11 calls to <function Model.make_test_function.<locals>.test_function at 0x7f41d07db7a0> triggered tf.function retracing. Tracing is expensive and the excessive number of tracings could be due to (1) creating @tf.function repeatedly in a loop, (2) passing tensors with different shapes, (3) passing Python objects instead of tensors. For (1), please define your @tf.function outside of the loop. For (2), @tf.function has experimental_relax_shapes=True option that relaxes argument shapes that can avoid unnecessary retracing. For (3), please refer to https://www.tensorflow.org/guide/function#controlling_retracing and https://www.tensorflow.org/api_docs/python/tf/function for  more details.\n",
            "processing fold # 2\n",
            "WARNING:tensorflow:6 out of the last 11 calls to <function Model.make_test_function.<locals>.test_function at 0x7f41cdad4cb0> triggered tf.function retracing. Tracing is expensive and the excessive number of tracings could be due to (1) creating @tf.function repeatedly in a loop, (2) passing tensors with different shapes, (3) passing Python objects instead of tensors. For (1), please define your @tf.function outside of the loop. For (2), @tf.function has experimental_relax_shapes=True option that relaxes argument shapes that can avoid unnecessary retracing. For (3), please refer to https://www.tensorflow.org/guide/function#controlling_retracing and https://www.tensorflow.org/api_docs/python/tf/function for  more details.\n",
            "processing fold # 3\n",
            "WARNING:tensorflow:6 out of the last 11 calls to <function Model.make_test_function.<locals>.test_function at 0x7f41dcdc5dd0> triggered tf.function retracing. Tracing is expensive and the excessive number of tracings could be due to (1) creating @tf.function repeatedly in a loop, (2) passing tensors with different shapes, (3) passing Python objects instead of tensors. For (1), please define your @tf.function outside of the loop. For (2), @tf.function has experimental_relax_shapes=True option that relaxes argument shapes that can avoid unnecessary retracing. For (3), please refer to https://www.tensorflow.org/guide/function#controlling_retracing and https://www.tensorflow.org/api_docs/python/tf/function for  more details.\n"
          ],
          "name": "stdout"
        }
      ]
    },
    {
      "cell_type": "markdown",
      "metadata": {
        "id": "mem-THMGW1Cx"
      },
      "source": [
        "k-fold with regulization "
      ]
    },
    {
      "cell_type": "code",
      "metadata": {
        "colab": {
          "base_uri": "https://localhost:8080/"
        },
        "id": "skDNRhDsXnlk",
        "outputId": "575b3b0f-d67c-4b90-ced9-41667223107a"
      },
      "source": [
        "import numpy as np\n",
        "k=4\n",
        "num_val_samples = len(x_train) // k\n",
        "num_epochs = 100\n",
        "all_scores_regular = []\n",
        "for i in range(k):\n",
        "  print('processing fold #', i)\n",
        "  val_data = x_train[i * num_val_samples: (i + 1) * num_val_samples]\n",
        "  val_targets = y_train[i * num_val_samples: (i + 1) * num_val_samples]\n",
        "  partial_train_data = np.concatenate(\n",
        "  [x_train[:i * num_val_samples],\n",
        "  x_train[(i + 1) * num_val_samples:]],axis=0)\n",
        "  partial_train_targets = np.concatenate([y_train[:i * num_val_samples],\n",
        "  y_train[(i + 1) * num_val_samples:]],axis=0)\n",
        "  model = build_model_regular('relu')\n",
        "  model.fit(partial_train_data, partial_train_targets,epochs=num_epochs, batch_size=1, verbose=0)\n",
        "  val_mse, val_mae = model.evaluate(val_data, val_targets, verbose=0)\n",
        "  all_scores_regular.append(val_mae)"
      ],
      "execution_count": 243,
      "outputs": [
        {
          "output_type": "stream",
          "text": [
            "processing fold # 0\n",
            "WARNING:tensorflow:6 out of the last 11 calls to <function Model.make_test_function.<locals>.test_function at 0x7f41d7974170> triggered tf.function retracing. Tracing is expensive and the excessive number of tracings could be due to (1) creating @tf.function repeatedly in a loop, (2) passing tensors with different shapes, (3) passing Python objects instead of tensors. For (1), please define your @tf.function outside of the loop. For (2), @tf.function has experimental_relax_shapes=True option that relaxes argument shapes that can avoid unnecessary retracing. For (3), please refer to https://www.tensorflow.org/guide/function#controlling_retracing and https://www.tensorflow.org/api_docs/python/tf/function for  more details.\n",
            "processing fold # 1\n",
            "WARNING:tensorflow:6 out of the last 11 calls to <function Model.make_test_function.<locals>.test_function at 0x7f41e068bcb0> triggered tf.function retracing. Tracing is expensive and the excessive number of tracings could be due to (1) creating @tf.function repeatedly in a loop, (2) passing tensors with different shapes, (3) passing Python objects instead of tensors. For (1), please define your @tf.function outside of the loop. For (2), @tf.function has experimental_relax_shapes=True option that relaxes argument shapes that can avoid unnecessary retracing. For (3), please refer to https://www.tensorflow.org/guide/function#controlling_retracing and https://www.tensorflow.org/api_docs/python/tf/function for  more details.\n",
            "processing fold # 2\n",
            "WARNING:tensorflow:6 out of the last 11 calls to <function Model.make_test_function.<locals>.test_function at 0x7f41dcd653b0> triggered tf.function retracing. Tracing is expensive and the excessive number of tracings could be due to (1) creating @tf.function repeatedly in a loop, (2) passing tensors with different shapes, (3) passing Python objects instead of tensors. For (1), please define your @tf.function outside of the loop. For (2), @tf.function has experimental_relax_shapes=True option that relaxes argument shapes that can avoid unnecessary retracing. For (3), please refer to https://www.tensorflow.org/guide/function#controlling_retracing and https://www.tensorflow.org/api_docs/python/tf/function for  more details.\n",
            "processing fold # 3\n",
            "WARNING:tensorflow:6 out of the last 11 calls to <function Model.make_test_function.<locals>.test_function at 0x7f41e068b560> triggered tf.function retracing. Tracing is expensive and the excessive number of tracings could be due to (1) creating @tf.function repeatedly in a loop, (2) passing tensors with different shapes, (3) passing Python objects instead of tensors. For (1), please define your @tf.function outside of the loop. For (2), @tf.function has experimental_relax_shapes=True option that relaxes argument shapes that can avoid unnecessary retracing. For (3), please refer to https://www.tensorflow.org/guide/function#controlling_retracing and https://www.tensorflow.org/api_docs/python/tf/function for  more details.\n"
          ],
          "name": "stdout"
        }
      ]
    },
    {
      "cell_type": "markdown",
      "metadata": {
        "id": "2mhYi5nVXuZn"
      },
      "source": [
        "k fold with dropout"
      ]
    },
    {
      "cell_type": "code",
      "metadata": {
        "colab": {
          "base_uri": "https://localhost:8080/"
        },
        "id": "mHcFnoYfXyJU",
        "outputId": "5ed190d5-4bb8-4821-c5e9-d6fd562e22ce"
      },
      "source": [
        "import numpy as np\n",
        "k=4\n",
        "num_val_samples = len(x_train) // k\n",
        "num_epochs = 100\n",
        "all_scores_dropout = []\n",
        "for i in range(k):\n",
        "  print('processing fold #', i)\n",
        "  val_data = x_train[i * num_val_samples: (i + 1) * num_val_samples]\n",
        "  val_targets = y_train[i * num_val_samples: (i + 1) * num_val_samples]\n",
        "  partial_train_data = np.concatenate(\n",
        "  [x_train[:i * num_val_samples],\n",
        "  x_train[(i + 1) * num_val_samples:]],axis=0)\n",
        "  partial_train_targets = np.concatenate([y_train[:i * num_val_samples],\n",
        "  y_train[(i + 1) * num_val_samples:]],axis=0)\n",
        "  model = build_model_drop('relu')\n",
        "  model.fit(partial_train_data, partial_train_targets,epochs=num_epochs, batch_size=1, verbose=0)\n",
        "  val_mse, val_mae = model.evaluate(val_data, val_targets, verbose=0)\n",
        "  all_scores_dropout.append(val_mae)"
      ],
      "execution_count": 244,
      "outputs": [
        {
          "output_type": "stream",
          "text": [
            "processing fold # 0\n",
            "WARNING:tensorflow:6 out of the last 11 calls to <function Model.make_test_function.<locals>.test_function at 0x7f41dcd885f0> triggered tf.function retracing. Tracing is expensive and the excessive number of tracings could be due to (1) creating @tf.function repeatedly in a loop, (2) passing tensors with different shapes, (3) passing Python objects instead of tensors. For (1), please define your @tf.function outside of the loop. For (2), @tf.function has experimental_relax_shapes=True option that relaxes argument shapes that can avoid unnecessary retracing. For (3), please refer to https://www.tensorflow.org/guide/function#controlling_retracing and https://www.tensorflow.org/api_docs/python/tf/function for  more details.\n",
            "processing fold # 1\n",
            "WARNING:tensorflow:6 out of the last 11 calls to <function Model.make_test_function.<locals>.test_function at 0x7f41c9f574d0> triggered tf.function retracing. Tracing is expensive and the excessive number of tracings could be due to (1) creating @tf.function repeatedly in a loop, (2) passing tensors with different shapes, (3) passing Python objects instead of tensors. For (1), please define your @tf.function outside of the loop. For (2), @tf.function has experimental_relax_shapes=True option that relaxes argument shapes that can avoid unnecessary retracing. For (3), please refer to https://www.tensorflow.org/guide/function#controlling_retracing and https://www.tensorflow.org/api_docs/python/tf/function for  more details.\n",
            "processing fold # 2\n",
            "WARNING:tensorflow:6 out of the last 11 calls to <function Model.make_test_function.<locals>.test_function at 0x7f41cc8a88c0> triggered tf.function retracing. Tracing is expensive and the excessive number of tracings could be due to (1) creating @tf.function repeatedly in a loop, (2) passing tensors with different shapes, (3) passing Python objects instead of tensors. For (1), please define your @tf.function outside of the loop. For (2), @tf.function has experimental_relax_shapes=True option that relaxes argument shapes that can avoid unnecessary retracing. For (3), please refer to https://www.tensorflow.org/guide/function#controlling_retracing and https://www.tensorflow.org/api_docs/python/tf/function for  more details.\n",
            "processing fold # 3\n",
            "WARNING:tensorflow:6 out of the last 11 calls to <function Model.make_test_function.<locals>.test_function at 0x7f41cbdcc7a0> triggered tf.function retracing. Tracing is expensive and the excessive number of tracings could be due to (1) creating @tf.function repeatedly in a loop, (2) passing tensors with different shapes, (3) passing Python objects instead of tensors. For (1), please define your @tf.function outside of the loop. For (2), @tf.function has experimental_relax_shapes=True option that relaxes argument shapes that can avoid unnecessary retracing. For (3), please refer to https://www.tensorflow.org/guide/function#controlling_retracing and https://www.tensorflow.org/api_docs/python/tf/function for  more details.\n"
          ],
          "name": "stdout"
        }
      ]
    },
    {
      "cell_type": "code",
      "metadata": {
        "colab": {
          "base_uri": "https://localhost:8080/"
        },
        "id": "WIRnmlgeYlAd",
        "outputId": "83efe625-d892-43c7-b9d5-2e73c72b937a"
      },
      "source": [
        "all_scores_relu"
      ],
      "execution_count": 245,
      "outputs": [
        {
          "output_type": "execute_result",
          "data": {
            "text/plain": [
              "[3680.859375, 3710.135009765625, 3510.373779296875, 3428.279541015625]"
            ]
          },
          "metadata": {
            "tags": []
          },
          "execution_count": 245
        }
      ]
    },
    {
      "cell_type": "code",
      "metadata": {
        "colab": {
          "base_uri": "https://localhost:8080/"
        },
        "id": "B56ch3MCaLOr",
        "outputId": "65427e2c-aef0-458a-a698-af3e333847da"
      },
      "source": [
        "all_scores_tanh"
      ],
      "execution_count": 246,
      "outputs": [
        {
          "output_type": "execute_result",
          "data": {
            "text/plain": [
              "[12240.7783203125, 12312.9462890625, 14276.0537109375, 14623.373046875]"
            ]
          },
          "metadata": {
            "tags": []
          },
          "execution_count": 246
        }
      ]
    },
    {
      "cell_type": "code",
      "metadata": {
        "colab": {
          "base_uri": "https://localhost:8080/"
        },
        "id": "HFc2D4NjaNgF",
        "outputId": "2af54909-ef8f-4971-902f-726904739f5f"
      },
      "source": [
        "all_scores_regular"
      ],
      "execution_count": 247,
      "outputs": [
        {
          "output_type": "execute_result",
          "data": {
            "text/plain": [
              "[3522.928466796875, 3885.4580078125, 3840.75, 3222.52099609375]"
            ]
          },
          "metadata": {
            "tags": []
          },
          "execution_count": 247
        }
      ]
    },
    {
      "cell_type": "code",
      "metadata": {
        "colab": {
          "base_uri": "https://localhost:8080/"
        },
        "id": "D4znk-qQaQNF",
        "outputId": "b2e16131-b093-40d2-ffee-29dc3e88ddbd"
      },
      "source": [
        "all_scores_dropout"
      ],
      "execution_count": 248,
      "outputs": [
        {
          "output_type": "execute_result",
          "data": {
            "text/plain": [
              "[3523.90234375, 3898.416015625, 4713.90185546875, 4161.0234375]"
            ]
          },
          "metadata": {
            "tags": []
          },
          "execution_count": 248
        }
      ]
    },
    {
      "cell_type": "markdown",
      "metadata": {
        "id": "d651ZQjVaiRD"
      },
      "source": [
        "training on the training data"
      ]
    },
    {
      "cell_type": "code",
      "metadata": {
        "colab": {
          "base_uri": "https://localhost:8080/"
        },
        "id": "qQHmRrReakTy",
        "outputId": "e2c32fd0-5e39-43eb-d59f-1c8973d16331"
      },
      "source": [
        "model_relu = build_model('relu')\n",
        "model_relu.fit(x_train, y_train,epochs= 100, batch_size=1, verbose=0)\n",
        "test_mse_score, test_mae_score = model_relu.evaluate(x_test, y_test)"
      ],
      "execution_count": 249,
      "outputs": [
        {
          "output_type": "stream",
          "text": [
            "WARNING:tensorflow:6 out of the last 11 calls to <function Model.make_test_function.<locals>.test_function at 0x7f41dcd935f0> triggered tf.function retracing. Tracing is expensive and the excessive number of tracings could be due to (1) creating @tf.function repeatedly in a loop, (2) passing tensors with different shapes, (3) passing Python objects instead of tensors. For (1), please define your @tf.function outside of the loop. For (2), @tf.function has experimental_relax_shapes=True option that relaxes argument shapes that can avoid unnecessary retracing. For (3), please refer to https://www.tensorflow.org/guide/function#controlling_retracing and https://www.tensorflow.org/api_docs/python/tf/function for  more details.\n",
            "2/2 [==============================] - 0s 6ms/step - loss: 13831749238784.0000 - mae: 1905762.8750\n"
          ],
          "name": "stdout"
        }
      ]
    },
    {
      "cell_type": "code",
      "metadata": {
        "colab": {
          "base_uri": "https://localhost:8080/"
        },
        "id": "ZddYjwYIbRk_",
        "outputId": "c788e73c-78bc-4ad9-fd30-eaee02c80f3d"
      },
      "source": [
        "model_relu = build_model('tanh')\n",
        "model_relu.fit(x_train, y_train,epochs= 100, batch_size=1, verbose=0)\n",
        "test_mse_score, test_mae_score = model_relu.evaluate(x_test, y_test)"
      ],
      "execution_count": 250,
      "outputs": [
        {
          "output_type": "stream",
          "text": [
            "WARNING:tensorflow:6 out of the last 11 calls to <function Model.make_test_function.<locals>.test_function at 0x7f41efee3b90> triggered tf.function retracing. Tracing is expensive and the excessive number of tracings could be due to (1) creating @tf.function repeatedly in a loop, (2) passing tensors with different shapes, (3) passing Python objects instead of tensors. For (1), please define your @tf.function outside of the loop. For (2), @tf.function has experimental_relax_shapes=True option that relaxes argument shapes that can avoid unnecessary retracing. For (3), please refer to https://www.tensorflow.org/guide/function#controlling_retracing and https://www.tensorflow.org/api_docs/python/tf/function for  more details.\n",
            "2/2 [==============================] - 0s 8ms/step - loss: 235297648.0000 - mae: 12884.2139\n"
          ],
          "name": "stdout"
        }
      ]
    },
    {
      "cell_type": "code",
      "metadata": {
        "colab": {
          "base_uri": "https://localhost:8080/"
        },
        "id": "P1WeLzJMbT9e",
        "outputId": "4a5ca206-e2b5-4ef1-9880-69ccff6a60c0"
      },
      "source": [
        "model_relu = build_model_drop('relu')\n",
        "model_relu.fit(x_train, y_train,epochs= 100, batch_size=1, verbose=0)\n",
        "test_mse_score, test_mae_score = model_relu.evaluate(x_test, y_test)"
      ],
      "execution_count": 251,
      "outputs": [
        {
          "output_type": "stream",
          "text": [
            "WARNING:tensorflow:6 out of the last 11 calls to <function Model.make_test_function.<locals>.test_function at 0x7f41dcdaa290> triggered tf.function retracing. Tracing is expensive and the excessive number of tracings could be due to (1) creating @tf.function repeatedly in a loop, (2) passing tensors with different shapes, (3) passing Python objects instead of tensors. For (1), please define your @tf.function outside of the loop. For (2), @tf.function has experimental_relax_shapes=True option that relaxes argument shapes that can avoid unnecessary retracing. For (3), please refer to https://www.tensorflow.org/guide/function#controlling_retracing and https://www.tensorflow.org/api_docs/python/tf/function for  more details.\n",
            "2/2 [==============================] - 0s 5ms/step - loss: 2254627930112.0000 - mae: 771636.8750\n"
          ],
          "name": "stdout"
        }
      ]
    },
    {
      "cell_type": "code",
      "metadata": {
        "colab": {
          "base_uri": "https://localhost:8080/"
        },
        "id": "tnAdOndybcap",
        "outputId": "3b52a122-3197-429e-f9ea-45a0307f0060"
      },
      "source": [
        "model_relu = build_model_regular('relu')\n",
        "model_relu.fit(x_train, y_train,epochs= 100, batch_size=1, verbose=0)\n",
        "test_mse_score, test_mae_score = model_relu.evaluate(x_test, y_test)"
      ],
      "execution_count": 252,
      "outputs": [
        {
          "output_type": "stream",
          "text": [
            "WARNING:tensorflow:6 out of the last 11 calls to <function Model.make_test_function.<locals>.test_function at 0x7f41dcdaad40> triggered tf.function retracing. Tracing is expensive and the excessive number of tracings could be due to (1) creating @tf.function repeatedly in a loop, (2) passing tensors with different shapes, (3) passing Python objects instead of tensors. For (1), please define your @tf.function outside of the loop. For (2), @tf.function has experimental_relax_shapes=True option that relaxes argument shapes that can avoid unnecessary retracing. For (3), please refer to https://www.tensorflow.org/guide/function#controlling_retracing and https://www.tensorflow.org/api_docs/python/tf/function for  more details.\n",
            "2/2 [==============================] - 0s 5ms/step - loss: 8032450248704.0000 - mae: 1452865.0000\n"
          ],
          "name": "stdout"
        }
      ]
    }
  ]
}